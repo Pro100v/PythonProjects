{
  "nbformat": 4,
  "nbformat_minor": 0,
  "metadata": {
    "colab": {
      "name": "ya.ipynb",
      "provenance": [],
      "collapsed_sections": [
        "bmZWNrHQ5zHi",
        "F-pGrztP53eD",
        "69Pv83Id5xDQ"
      ],
      "toc_visible": true,
      "authorship_tag": "ABX9TyPlcGNjR7paoKcwHrwd07P+",
      "include_colab_link": true
    },
    "kernelspec": {
      "name": "python3",
      "display_name": "Python 3"
    }
  },
  "cells": [
    {
      "cell_type": "markdown",
      "metadata": {
        "id": "view-in-github",
        "colab_type": "text"
      },
      "source": [
        "<a href=\"https://colab.research.google.com/github/Pro100v/PythonProjects/blob/master/DataAnalysis/TestTasks/Yandex/ya.ipynb\" target=\"_parent\"><img src=\"https://colab.research.google.com/assets/colab-badge.svg\" alt=\"Open In Colab\"/></a>"
      ]
    },
    {
      "cell_type": "markdown",
      "metadata": {
        "id": "rVFQvKBAGDRn"
      },
      "source": [
        "#Вопрос 1\n",
        "\n",
        "Имеется файл https://yadi.sk/i/IxBCaRP83Kz8dj с временной статистикой работы асессоров над однотипным заданием.\n",
        "\n",
        "Формат файла: login tid Microtasks assigned_ts tclosed_ts. Пояснение к формату: \n",
        "- **login** — логин асессора; \n",
        "- **tid** — id оцениваемого задания (task id); \n",
        "- **Microtasks** – количество микрозаданий в одном задании; \n",
        "- **assigned_ts** — время резервирования системой задания для асессора; \n",
        "- **closed_ts** — точное время завершения работы над заданием; разделитель — табуляция \\t.\n",
        "\n",
        "Задание может состоять из одного или несколько микрозаданий. Время резервирования задания (assigned_ts) указывает на тот момент, когда система назначила определенного асессора исполнителем этого задания. Этот момент может совпадать с временем начала работы асессора над заданием, а может и не совпадать (асессор может отойти выпить чаю, а потом приступить к заданию, асессор может выполнять предыдущее задание, в то время как за ним зарезервированы новые).\n",
        "\n",
        "Предположим, что асессор за 30 секунд своего рабочего времени получает N рублей.\n",
        "\n",
        "Какую оплату вы считаете справедливой для выполнения асессором одного микрозадания из этого файла? Опишите подробно все этапы вашего решения."
      ]
    },
    {
      "cell_type": "markdown",
      "metadata": {
        "id": "DNYuY2n0GAWR"
      },
      "source": [
        "### Проработка\n",
        "\n",
        "\n",
        "#### Идея\n",
        "- рассчитать среднее значение времени на выполнение одной микрозадачи \n",
        "- исходя из полученного на предыдущем шаге среднего значения, рассчитать количество микрозадач, которые может выполнить асессор в режиме работы 5/8. В расчетах использовать допущение, что асессор на выполнение работы тратит 80% от всего рабочего времени. \n",
        "- в качестве допущения, взять среднюю заработную плату в размере **30 0000 рублей** и разделить ее на количество микрозадач, которые может выполняит асессор в месяц\n",
        "- получим стоимсть выполнения одной микрозадачи. **done**\n",
        "\n",
        "#### Работа с данными\n",
        "1. Определить и удалить ложные данные в датасете\n",
        "2. Посмотреть наличие выбросов и попытаться их устранить, для работы с более значимыми данными\n",
        "\n",
        "#### Рассчеты\n",
        "1. Высчитать время выполнения всего задания. **Цель:** возможность для среднего времени выполнения одной микрозадачи.**\n",
        "2. Посчитать среднее время на выполнение одной микрозадачи. **Цель:** для оперирования в последующих расчетах средним временем на выполнения микрозадачи и в последствии выйти на приемлемую оплату\n",
        "3. (~) Определить сколько временных слотов по 30 сек. требуется для выполнения одной микрозадачи. **Цель:** получение коэфициента стоимости работ асессора за выполнения средней велечины выполнения одной микрозадачи, исходя из тарифа в N рублей за 30 секунд.\n",
        "4. Рассчитать медианный показатель (медиана сгладит негативный эффект \"грязного\" времени выполнения микрозадачи) выполнения одной микрозадачи, сгруппированных по месяцам. Цель: получить \n"
      ]
    },
    {
      "cell_type": "markdown",
      "metadata": {
        "id": "rEo9We8x5Y95"
      },
      "source": [
        "### Решение"
      ]
    },
    {
      "cell_type": "markdown",
      "metadata": {
        "id": "bmZWNrHQ5zHi"
      },
      "source": [
        "#### Объявление библиотек"
      ]
    },
    {
      "cell_type": "code",
      "metadata": {
        "id": "8XAX49-KFxAI"
      },
      "source": [
        "import pandas as pd\n",
        "from datetime import datetime, timedelta\n",
        "import requests\n",
        "from urllib.parse import urlencode\n",
        "import seaborn as sns\n",
        "from matplotlib import pyplot as plt"
      ],
      "execution_count": null,
      "outputs": []
    },
    {
      "cell_type": "markdown",
      "metadata": {
        "id": "F-pGrztP53eD"
      },
      "source": [
        "#### Загрузка данных"
      ]
    },
    {
      "cell_type": "code",
      "metadata": {
        "id": "EovW7-6dGhbq",
        "outputId": "d5463805-6263-4f32-99ce-5c3b2772a05f",
        "colab": {
          "base_uri": "https://localhost:8080/",
          "height": 69
        }
      },
      "source": [
        "base_url = 'https://cloud-api.yandex.net/v1/disk/public/resources/download?'\n",
        "public_key = 'https://yadi.sk/i/IxBCaRP83Kz8dj'  # Сюда вписываете вашу ссылку\n",
        "\n",
        "# Получаем загрузочную ссылку\n",
        "final_url = base_url + urlencode(dict(public_key=public_key))\n",
        "response = requests.get(final_url)\n",
        "download_url = response.json()['href']\n",
        "download_url"
      ],
      "execution_count": null,
      "outputs": [
        {
          "output_type": "execute_result",
          "data": {
            "application/vnd.google.colaboratory.intrinsic+json": {
              "type": "string"
            },
            "text/plain": [
              "'https://downloader.disk.yandex.ru/disk/df865c5f59f2f38c6a981d4cf1c9e2252ed9d4597198d89f218c3793939dfb7c/5f7de5e5/bu92kZqLm5Gkr9yvLBQQ4I6AHYj-Ltsyp_feXYifhcw0wSq6PtNoJYAMAIdyZalbSUFzq3USfP7D_1XF6bRulA%3D%3D?uid=0&filename=data_task4_old.txt&disposition=attachment&hash=TKpkeqTtSkR3GS3SLe56%2BbV1Ms0cpBwIePhPjMDAMi4%3D%3A&limit=0&content_type=text%2Fplain&owner_uid=45647354&fsize=45540847&hid=1a360c0e2a08dceec4f4a4c225706cd9&media_type=document&tknv=v2'"
            ]
          },
          "metadata": {
            "tags": []
          },
          "execution_count": 4
        }
      ]
    },
    {
      "cell_type": "code",
      "metadata": {
        "id": "mgY5z_E3GksT",
        "outputId": "dcde4d88-4c81-44bf-f861-fedc467aedba",
        "colab": {
          "base_uri": "https://localhost:8080/",
          "height": 204
        }
      },
      "source": [
        "# Скачиваем файл и загружаем его в DataFrame pandas\n",
        "file = download_url\n",
        "df = pd.read_csv(download_url, sep='\\t', nrows=None, parse_dates=['assigned_ts', 'closed_ts'], dayfirst=False)\n",
        "df.head()"
      ],
      "execution_count": null,
      "outputs": [
        {
          "output_type": "execute_result",
          "data": {
            "text/html": [
              "<div>\n",
              "<style scoped>\n",
              "    .dataframe tbody tr th:only-of-type {\n",
              "        vertical-align: middle;\n",
              "    }\n",
              "\n",
              "    .dataframe tbody tr th {\n",
              "        vertical-align: top;\n",
              "    }\n",
              "\n",
              "    .dataframe thead th {\n",
              "        text-align: right;\n",
              "    }\n",
              "</style>\n",
              "<table border=\"1\" class=\"dataframe\">\n",
              "  <thead>\n",
              "    <tr style=\"text-align: right;\">\n",
              "      <th></th>\n",
              "      <th>login</th>\n",
              "      <th>tid</th>\n",
              "      <th>Microtasks</th>\n",
              "      <th>assigned_ts</th>\n",
              "      <th>closed_ts</th>\n",
              "    </tr>\n",
              "  </thead>\n",
              "  <tbody>\n",
              "    <tr>\n",
              "      <th>0</th>\n",
              "      <td>login0</td>\n",
              "      <td>190563850.0</td>\n",
              "      <td>4.0</td>\n",
              "      <td>2017-04-20 12:09:39</td>\n",
              "      <td>2017-04-20 13:13:01</td>\n",
              "    </tr>\n",
              "    <tr>\n",
              "      <th>1</th>\n",
              "      <td>login0</td>\n",
              "      <td>190561754.0</td>\n",
              "      <td>1.0</td>\n",
              "      <td>2017-04-20 12:10:30</td>\n",
              "      <td>2017-04-20 12:28:29</td>\n",
              "    </tr>\n",
              "    <tr>\n",
              "      <th>2</th>\n",
              "      <td>login0</td>\n",
              "      <td>190565906.0</td>\n",
              "      <td>4.0</td>\n",
              "      <td>2017-04-20 12:21:31</td>\n",
              "      <td>2017-04-20 13:30:10</td>\n",
              "    </tr>\n",
              "    <tr>\n",
              "      <th>3</th>\n",
              "      <td>login0</td>\n",
              "      <td>190560246.0</td>\n",
              "      <td>1.0</td>\n",
              "      <td>2017-04-20 12:28:30</td>\n",
              "      <td>2017-04-20 13:13:56</td>\n",
              "    </tr>\n",
              "    <tr>\n",
              "      <th>4</th>\n",
              "      <td>login0</td>\n",
              "      <td>190562168.0</td>\n",
              "      <td>2.0</td>\n",
              "      <td>2017-04-20 12:28:42</td>\n",
              "      <td>2017-04-20 13:14:50</td>\n",
              "    </tr>\n",
              "  </tbody>\n",
              "</table>\n",
              "</div>"
            ],
            "text/plain": [
              "    login          tid  Microtasks         assigned_ts           closed_ts\n",
              "0  login0  190563850.0         4.0 2017-04-20 12:09:39 2017-04-20 13:13:01\n",
              "1  login0  190561754.0         1.0 2017-04-20 12:10:30 2017-04-20 12:28:29\n",
              "2  login0  190565906.0         4.0 2017-04-20 12:21:31 2017-04-20 13:30:10\n",
              "3  login0  190560246.0         1.0 2017-04-20 12:28:30 2017-04-20 13:13:56\n",
              "4  login0  190562168.0         2.0 2017-04-20 12:28:42 2017-04-20 13:14:50"
            ]
          },
          "metadata": {
            "tags": []
          },
          "execution_count": 5
        }
      ]
    },
    {
      "cell_type": "markdown",
      "metadata": {
        "id": "69Pv83Id5xDQ"
      },
      "source": [
        "#### Анализ и очистка данных"
      ]
    },
    {
      "cell_type": "code",
      "metadata": {
        "id": "ITH0ET8AGn1k",
        "outputId": "efcb5160-a294-480f-d5c6-6be05a097e09",
        "colab": {
          "base_uri": "https://localhost:8080/",
          "height": 80
        }
      },
      "source": [
        "# определение ложных даннах\n",
        "\n",
        "# поиск записей дата назначения задачи больше чем ее дата завепшения\n",
        "indxr = df[df.assigned_ts\t>= df.closed_ts]\n",
        "indxr"
      ],
      "execution_count": null,
      "outputs": [
        {
          "output_type": "execute_result",
          "data": {
            "text/html": [
              "<div>\n",
              "<style scoped>\n",
              "    .dataframe tbody tr th:only-of-type {\n",
              "        vertical-align: middle;\n",
              "    }\n",
              "\n",
              "    .dataframe tbody tr th {\n",
              "        vertical-align: top;\n",
              "    }\n",
              "\n",
              "    .dataframe thead th {\n",
              "        text-align: right;\n",
              "    }\n",
              "</style>\n",
              "<table border=\"1\" class=\"dataframe\">\n",
              "  <thead>\n",
              "    <tr style=\"text-align: right;\">\n",
              "      <th></th>\n",
              "      <th>login</th>\n",
              "      <th>tid</th>\n",
              "      <th>Microtasks</th>\n",
              "      <th>assigned_ts</th>\n",
              "      <th>closed_ts</th>\n",
              "    </tr>\n",
              "  </thead>\n",
              "  <tbody>\n",
              "    <tr>\n",
              "      <th>534453</th>\n",
              "      <td>login585</td>\n",
              "      <td>197340894.0</td>\n",
              "      <td>1.0</td>\n",
              "      <td>2017-05-24 16:13:06</td>\n",
              "      <td>2017-05-24 16:00:57</td>\n",
              "    </tr>\n",
              "  </tbody>\n",
              "</table>\n",
              "</div>"
            ],
            "text/plain": [
              "           login          tid  ...         assigned_ts           closed_ts\n",
              "534453  login585  197340894.0  ... 2017-05-24 16:13:06 2017-05-24 16:00:57\n",
              "\n",
              "[1 rows x 5 columns]"
            ]
          },
          "metadata": {
            "tags": []
          },
          "execution_count": 6
        }
      ]
    },
    {
      "cell_type": "code",
      "metadata": {
        "id": "r4mCkn_GGtp7"
      },
      "source": [
        "# удаление \"ложных\" данных\n",
        "df.drop(indxr.index, inplace=True)"
      ],
      "execution_count": null,
      "outputs": []
    },
    {
      "cell_type": "code",
      "metadata": {
        "id": "vlBlaTnnGv-z"
      },
      "source": [
        "# Рассчитаем время на выполнение задачи в секундах\n",
        "df['tm_delta_seconds'] = (df.closed_ts - df.assigned_ts) / timedelta(seconds=1)"
      ],
      "execution_count": null,
      "outputs": []
    },
    {
      "cell_type": "code",
      "metadata": {
        "id": "4AEWNBMWGyWS"
      },
      "source": [
        "# вычислим время выполнения одной микрозадачи в секундах\n",
        "df['avg_tm_microtask_complete'] = df.tm_delta_seconds / df.Microtasks"
      ],
      "execution_count": null,
      "outputs": []
    },
    {
      "cell_type": "code",
      "metadata": {
        "id": "ZZ_0lxadc1n7",
        "outputId": "83cc1249-06d9-485c-92c6-dae6bd2773a4",
        "colab": {
          "base_uri": "https://localhost:8080/",
          "height": 295
        }
      },
      "source": [
        "# посмотрим распределение полученных величин на гистограмме\n",
        "df.avg_tm_microtask_complete.hist(bins=100)"
      ],
      "execution_count": null,
      "outputs": [
        {
          "output_type": "execute_result",
          "data": {
            "text/plain": [
              "<matplotlib.axes._subplots.AxesSubplot at 0x7fdc887d5978>"
            ]
          },
          "metadata": {
            "tags": []
          },
          "execution_count": 10
        },
        {
          "output_type": "display_data",
          "data": {
            "image/png": "[encoded data removed]",
            "text/plain": [
              "<Figure size 432x288 with 1 Axes>"
            ]
          },
          "metadata": {
            "tags": [],
            "needs_background": "light"
          }
        }
      ]
    },
    {
      "cell_type": "code",
      "metadata": {
        "id": "s1HtQqvfe2fG",
        "outputId": "45935998-4578-4910-9fb7-7e77cc3e4cb2",
        "colab": {
          "base_uri": "https://localhost:8080/"
        }
      },
      "source": [
        "df.avg_tm_microtask_complete.describe()"
      ],
      "execution_count": null,
      "outputs": [
        {
          "output_type": "execute_result",
          "data": {
            "text/plain": [
              "count    7.018260e+05\n",
              "mean     5.681534e+02\n",
              "std      5.378999e+03\n",
              "min      1.769231e+00\n",
              "25%      3.700000e+01\n",
              "50%      7.500000e+01\n",
              "75%      1.820000e+02\n",
              "max      1.074156e+06\n",
              "Name: avg_tm_microtask_complete, dtype: float64"
            ]
          },
          "metadata": {
            "tags": []
          },
          "execution_count": 11
        }
      ]
    },
    {
      "cell_type": "markdown",
      "metadata": {
        "id": "B5F4sJzHJvUl"
      },
      "source": [
        "максимальное значение в данных на выполнение одной микрозадачи составляет *1 074 156 секунд* или более *12 дней*, что явно является выбросом в данных - который может негатино отразиться на дальнейших рассчетах. Постараемся очистить данные по [правилу 3 сигм](https://ru.wikipedia.org/wiki/%D0%A1%D1%80%D0%B5%D0%B4%D0%BD%D0%B5%D0%BA%D0%B2%D0%B0%D0%B4%D1%80%D0%B0%D1%82%D0%B8%D1%87%D0%B5%D1%81%D0%BA%D0%BE%D0%B5_%D0%BE%D1%82%D0%BA%D0%BB%D0%BE%D0%BD%D0%B5%D0%BD%D0%B8%D0%B5#%D0%9F%D1%80%D0%B0%D0%B2%D0%B8%D0%BB%D0%BE_%D1%82%D1%80%D1%91%D1%85_%D1%81%D0%B8%D0%B3%D0%BC)\n",
        "\n"
      ]
    },
    {
      "cell_type": "code",
      "metadata": {
        "id": "E4wD4mZWfDrD",
        "outputId": "6f2e6e98-58be-4eca-f792-1c5bc19dd876",
        "colab": {
          "base_uri": "https://localhost:8080/"
        }
      },
      "source": [
        "1.074156e+06 / 60 / 60 / 24"
      ],
      "execution_count": null,
      "outputs": [
        {
          "output_type": "execute_result",
          "data": {
            "text/plain": [
              "12.432361111111112"
            ]
          },
          "metadata": {
            "tags": []
          },
          "execution_count": 12
        }
      ]
    },
    {
      "cell_type": "code",
      "metadata": {
        "id": "BCKZy_WbdFD6",
        "outputId": "f4c2d385-e483-448d-d354-acd9a9e0128f",
        "colab": {
          "base_uri": "https://localhost:8080/"
        }
      },
      "source": [
        "# высчитаем отклонение от среднего\n",
        "dev = (df.avg_tm_microtask_complete - df.avg_tm_microtask_complete.mean()).abs()\n",
        "# высчитаем среднее отклонение \n",
        "std = df.avg_tm_microtask_complete.std()\n",
        "# применим правило 3 сиги и полученный результат запишем в новый нобор данных\n",
        "df_trimmed = df[~(dev > std*3)]\n",
        "df_trimmed.avg_tm_microtask_complete.describe()"
      ],
      "execution_count": null,
      "outputs": [
        {
          "output_type": "execute_result",
          "data": {
            "text/plain": [
              "count    698602.000000\n",
              "mean        362.049276\n",
              "std        1217.537366\n",
              "min           1.769231\n",
              "25%          37.000000\n",
              "50%          74.000000\n",
              "75%         178.888889\n",
              "max       16704.000000\n",
              "Name: avg_tm_microtask_complete, dtype: float64"
            ]
          },
          "metadata": {
            "tags": []
          },
          "execution_count": 13
        }
      ]
    },
    {
      "cell_type": "code",
      "metadata": {
        "id": "Q1btKr07fWi_",
        "outputId": "faf35f16-50d2-465c-e853-530f0eb13401",
        "colab": {
          "base_uri": "https://localhost:8080/"
        }
      },
      "source": [
        "16704 / 60 / 60 / 1"
      ],
      "execution_count": null,
      "outputs": [
        {
          "output_type": "execute_result",
          "data": {
            "text/plain": [
              "4.64"
            ]
          },
          "metadata": {
            "tags": []
          },
          "execution_count": 14
        }
      ]
    },
    {
      "cell_type": "code",
      "metadata": {
        "id": "U7WfZQJTekOJ",
        "outputId": "7bc68f6d-57ca-4143-c30d-a8514ee1c867",
        "colab": {
          "base_uri": "https://localhost:8080/",
          "height": 282
        }
      },
      "source": [
        "df_trimmed.avg_tm_microtask_complete.hist(bins=100)"
      ],
      "execution_count": null,
      "outputs": [
        {
          "output_type": "execute_result",
          "data": {
            "text/plain": [
              "<matplotlib.axes._subplots.AxesSubplot at 0x7fdc8be36978>"
            ]
          },
          "metadata": {
            "tags": []
          },
          "execution_count": 15
        },
        {
          "output_type": "display_data",
          "data": {
            "image/png": "[encoded data removed]",
            "text/plain": [
              "<Figure size 432x288 with 1 Axes>"
            ]
          },
          "metadata": {
            "tags": [],
            "needs_background": "light"
          }
        }
      ]
    },
    {
      "cell_type": "markdown",
      "metadata": {
        "id": "ccyby8czREeb"
      },
      "source": [
        "в очишенном наборе данных уже нет сильных выбросов, при том кол-во данных сократилось не значительно с 701'826 записей до 698'602. Максимальное время выполнения одно микрозадачи составляет 16704 секунд, или около 4,5 часа - что больше похоже на правду."
      ]
    },
    {
      "cell_type": "code",
      "metadata": {
        "id": "c1x-TlIyG1Hf",
        "outputId": "1b8bce48-d5f4-4b48-a9f3-7f510279b84d",
        "colab": {
          "base_uri": "https://localhost:8080/",
          "height": 419
        }
      },
      "source": [
        "# сгруппируем данные по месяцам и асессорам и расчитаем для полученных записей\n",
        "# медианное значение среднего времени выполнения микрозадачи в секундах\n",
        "# т.о. получим среднее время выполнения одной микрозадачи по ассесорам в рамках \n",
        "# месяца (медиана сгладит ситуацию с \"грязным временем\" выполнения микрозадачи)\n",
        "\n",
        "df_month_login = df_trimmed.groupby(by=[df_trimmed.assigned_ts.dt.month_name(), df_trimmed.login])\\\n",
        "    ['avg_tm_microtask_complete'].median()\\\n",
        "    .reset_index()\n",
        "df_month_login[5:-5]"
      ],
      "execution_count": null,
      "outputs": [
        {
          "output_type": "execute_result",
          "data": {
            "text/html": [
              "<div>\n",
              "<style scoped>\n",
              "    .dataframe tbody tr th:only-of-type {\n",
              "        vertical-align: middle;\n",
              "    }\n",
              "\n",
              "    .dataframe tbody tr th {\n",
              "        vertical-align: top;\n",
              "    }\n",
              "\n",
              "    .dataframe thead th {\n",
              "        text-align: right;\n",
              "    }\n",
              "</style>\n",
              "<table border=\"1\" class=\"dataframe\">\n",
              "  <thead>\n",
              "    <tr style=\"text-align: right;\">\n",
              "      <th></th>\n",
              "      <th>assigned_ts</th>\n",
              "      <th>login</th>\n",
              "      <th>avg_tm_microtask_complete</th>\n",
              "    </tr>\n",
              "  </thead>\n",
              "  <tbody>\n",
              "    <tr>\n",
              "      <th>5</th>\n",
              "      <td>April</td>\n",
              "      <td>login103</td>\n",
              "      <td>136.000000</td>\n",
              "    </tr>\n",
              "    <tr>\n",
              "      <th>6</th>\n",
              "      <td>April</td>\n",
              "      <td>login105</td>\n",
              "      <td>44.472222</td>\n",
              "    </tr>\n",
              "    <tr>\n",
              "      <th>7</th>\n",
              "      <td>April</td>\n",
              "      <td>login106</td>\n",
              "      <td>54.000000</td>\n",
              "    </tr>\n",
              "    <tr>\n",
              "      <th>8</th>\n",
              "      <td>April</td>\n",
              "      <td>login108</td>\n",
              "      <td>99.100000</td>\n",
              "    </tr>\n",
              "    <tr>\n",
              "      <th>9</th>\n",
              "      <td>April</td>\n",
              "      <td>login109</td>\n",
              "      <td>983.000000</td>\n",
              "    </tr>\n",
              "    <tr>\n",
              "      <th>...</th>\n",
              "      <td>...</td>\n",
              "      <td>...</td>\n",
              "      <td>...</td>\n",
              "    </tr>\n",
              "    <tr>\n",
              "      <th>1687</th>\n",
              "      <td>May</td>\n",
              "      <td>login90</td>\n",
              "      <td>91.000000</td>\n",
              "    </tr>\n",
              "    <tr>\n",
              "      <th>1688</th>\n",
              "      <td>May</td>\n",
              "      <td>login91</td>\n",
              "      <td>44.000000</td>\n",
              "    </tr>\n",
              "    <tr>\n",
              "      <th>1689</th>\n",
              "      <td>May</td>\n",
              "      <td>login92</td>\n",
              "      <td>114.500000</td>\n",
              "    </tr>\n",
              "    <tr>\n",
              "      <th>1690</th>\n",
              "      <td>May</td>\n",
              "      <td>login93</td>\n",
              "      <td>114.000000</td>\n",
              "    </tr>\n",
              "    <tr>\n",
              "      <th>1691</th>\n",
              "      <td>May</td>\n",
              "      <td>login94</td>\n",
              "      <td>40.000000</td>\n",
              "    </tr>\n",
              "  </tbody>\n",
              "</table>\n",
              "<p>1687 rows × 3 columns</p>\n",
              "</div>"
            ],
            "text/plain": [
              "     assigned_ts     login  avg_tm_microtask_complete\n",
              "5          April  login103                 136.000000\n",
              "6          April  login105                  44.472222\n",
              "7          April  login106                  54.000000\n",
              "8          April  login108                  99.100000\n",
              "9          April  login109                 983.000000\n",
              "...          ...       ...                        ...\n",
              "1687         May   login90                  91.000000\n",
              "1688         May   login91                  44.000000\n",
              "1689         May   login92                 114.500000\n",
              "1690         May   login93                 114.000000\n",
              "1691         May   login94                  40.000000\n",
              "\n",
              "[1687 rows x 3 columns]"
            ]
          },
          "metadata": {
            "tags": []
          },
          "execution_count": 16
        }
      ]
    },
    {
      "cell_type": "code",
      "metadata": {
        "id": "ebRZ5JeJIjGJ",
        "outputId": "7074bd56-7438-49d7-830a-0bf74ff8a36d",
        "colab": {
          "base_uri": "https://localhost:8080/",
          "height": 282
        }
      },
      "source": [
        "# посмотрим распределение полученных величин на гистограмме\n",
        "df_month_login.avg_tm_microtask_complete.hist(bins=100)"
      ],
      "execution_count": null,
      "outputs": [
        {
          "output_type": "execute_result",
          "data": {
            "text/plain": [
              "<matplotlib.axes._subplots.AxesSubplot at 0x7fdc8af8b748>"
            ]
          },
          "metadata": {
            "tags": []
          },
          "execution_count": 17
        },
        {
          "output_type": "display_data",
          "data": {
            "image/png": "[encoded data removed]",
            "text/plain": [
              "<Figure size 432x288 with 1 Axes>"
            ]
          },
          "metadata": {
            "tags": [],
            "needs_background": "light"
          }
        }
      ]
    },
    {
      "cell_type": "code",
      "metadata": {
        "id": "yixRnULVJOSV",
        "outputId": "f8c6ab3e-3e6e-43de-9494-c2484f3413bd",
        "colab": {
          "base_uri": "https://localhost:8080/",
          "height": 297
        }
      },
      "source": [
        "df_month_login.describe()"
      ],
      "execution_count": null,
      "outputs": [
        {
          "output_type": "execute_result",
          "data": {
            "text/html": [
              "<div>\n",
              "<style scoped>\n",
              "    .dataframe tbody tr th:only-of-type {\n",
              "        vertical-align: middle;\n",
              "    }\n",
              "\n",
              "    .dataframe tbody tr th {\n",
              "        vertical-align: top;\n",
              "    }\n",
              "\n",
              "    .dataframe thead th {\n",
              "        text-align: right;\n",
              "    }\n",
              "</style>\n",
              "<table border=\"1\" class=\"dataframe\">\n",
              "  <thead>\n",
              "    <tr style=\"text-align: right;\">\n",
              "      <th></th>\n",
              "      <th>avg_tm_microtask_complete</th>\n",
              "    </tr>\n",
              "  </thead>\n",
              "  <tbody>\n",
              "    <tr>\n",
              "      <th>count</th>\n",
              "      <td>1697.000000</td>\n",
              "    </tr>\n",
              "    <tr>\n",
              "      <th>mean</th>\n",
              "      <td>345.234824</td>\n",
              "    </tr>\n",
              "    <tr>\n",
              "      <th>std</th>\n",
              "      <td>885.831228</td>\n",
              "    </tr>\n",
              "    <tr>\n",
              "      <th>min</th>\n",
              "      <td>14.666667</td>\n",
              "    </tr>\n",
              "    <tr>\n",
              "      <th>25%</th>\n",
              "      <td>68.500000</td>\n",
              "    </tr>\n",
              "    <tr>\n",
              "      <th>50%</th>\n",
              "      <td>115.000000</td>\n",
              "    </tr>\n",
              "    <tr>\n",
              "      <th>75%</th>\n",
              "      <td>229.500000</td>\n",
              "    </tr>\n",
              "    <tr>\n",
              "      <th>max</th>\n",
              "      <td>13447.000000</td>\n",
              "    </tr>\n",
              "  </tbody>\n",
              "</table>\n",
              "</div>"
            ],
            "text/plain": [
              "       avg_tm_microtask_complete\n",
              "count                1697.000000\n",
              "mean                  345.234824\n",
              "std                   885.831228\n",
              "min                    14.666667\n",
              "25%                    68.500000\n",
              "50%                   115.000000\n",
              "75%                   229.500000\n",
              "max                 13447.000000"
            ]
          },
          "metadata": {
            "tags": []
          },
          "execution_count": 18
        }
      ]
    },
    {
      "cell_type": "markdown",
      "metadata": {
        "id": "FKcykDEo6ZSv"
      },
      "source": [
        "##### Вывод\n",
        "\n",
        "после применения правила 3-х сигм, разброс данных стал меньше, что должно повысить качество последующих рассчетов"
      ]
    },
    {
      "cell_type": "markdown",
      "metadata": {
        "id": "Lq4EJ_um6pXT"
      },
      "source": [
        "#### Выполнение расчетов"
      ]
    },
    {
      "cell_type": "code",
      "metadata": {
        "id": "-tyeaZM-WMGL",
        "outputId": "191ef5a7-6ca0-4506-8514-d8b60e828f31",
        "colab": {
          "base_uri": "https://localhost:8080/"
        }
      },
      "source": [
        "# запомним медианное значение времени выполнения одной микрозадачи в секундах\n",
        "median_tm_cmplt_microtask = round(df_month_login.avg_tm_microtask_complete.median())\n",
        "# median_tm_cmplt_microtask = round(df_trimmed.avg_tm_microtask_complete.median())\n",
        "print(f\"Среднее время выполнения 1 микрозадачи: {median_tm_cmplt_microtask} сек.\")"
      ],
      "execution_count": null,
      "outputs": [
        {
          "output_type": "stream",
          "text": [
            "Среднее время выполнения 1 микрозадачи: 115 сек.\n"
          ],
          "name": "stdout"
        }
      ]
    },
    {
      "cell_type": "code",
      "metadata": {
        "id": "CFwcG6BoJ-IG",
        "outputId": "74de1a2b-b542-4f85-b595-3005eb0915f5",
        "colab": {
          "base_uri": "https://localhost:8080/"
        }
      },
      "source": [
        "wh_year_all = 1979  # количество рабочих часов в 2020 году по данным производственного каллендаря \n",
        "wh_year_eff = wh_year_all * .8 # 80% эффективного времени от общего значения\n",
        "wh_month_eff = wh_year_eff / 12 # кол-во эффективных часов в месяц\n",
        "microtasks_per_month = (wh_month_eff * 60 * 60) / median_tm_cmplt_microtask\n",
        "print(f\"Объем микрозадач в месяц на 1 асессора: {round(microtasks_per_month)} шт.\")\n"
      ],
      "execution_count": null,
      "outputs": [
        {
          "output_type": "stream",
          "text": [
            "Объем микрозадач в месяц на 1 асессора: 4130 шт.\n"
          ],
          "name": "stdout"
        }
      ]
    },
    {
      "cell_type": "code",
      "metadata": {
        "id": "nsPPZw70bSEi",
        "outputId": "885ba5a4-41b2-415e-b1bb-bdc0a6c417e3",
        "colab": {
          "base_uri": "https://localhost:8080/"
        }
      },
      "source": [
        "# Средняя зарплата в России в 2020 году по данным Росстата\n",
        "# средняя зарплата в России по состоянию на январь 2020 года составила 46674 руб.\n",
        "avg_salary = 46674\n",
        "\n",
        "tax_per_microtask = round(avg_salary / microtasks_per_month)\n",
        "print(f\"Стоимость одной микрозадачи: {tax_per_microtask} рублей\")"
      ],
      "execution_count": null,
      "outputs": [
        {
          "output_type": "stream",
          "text": [
            "Стоимость одной микрозадачи: 11 рублей\n"
          ],
          "name": "stdout"
        }
      ]
    },
    {
      "cell_type": "markdown",
      "metadata": {
        "id": "5Xq-prUJ46kv"
      },
      "source": [
        "### Ответ \n",
        "\n",
        "\n"
      ]
    },
    {
      "cell_type": "markdown",
      "metadata": {
        "id": "8c6ycmRv63Re"
      },
      "source": [
        "#### Cтоимость одной микрозадачи составляет **11 рублей**"
      ]
    },
    {
      "cell_type": "markdown",
      "metadata": {
        "id": "biZ8_XGq65ub"
      },
      "source": [
        "### Проверка"
      ]
    },
    {
      "cell_type": "markdown",
      "metadata": {
        "id": "tm5NO0V-6_K7"
      },
      "source": [
        "Посмотрим на разброс ежемесячных зарплат, исходя из полученных результатов"
      ]
    },
    {
      "cell_type": "code",
      "metadata": {
        "id": "lb1AeWJBBfxP",
        "outputId": "bc2fe2a5-da87-40f8-bcc0-10e27056c17b",
        "colab": {
          "base_uri": "https://localhost:8080/",
          "height": 297
        }
      },
      "source": [
        "df_tmp = df_trimmed.groupby(by=[df_trimmed.assigned_ts.dt.month_name(), df_trimmed.login])\\\n",
        "  .agg({'Microtasks': 'sum'})\\\n",
        "  .assign(salary = lambda x: x['Microtasks'] * tax_per_microtask)\\\n",
        "  .reset_index()\n",
        "df_tmp.describe()"
      ],
      "execution_count": null,
      "outputs": [
        {
          "output_type": "execute_result",
          "data": {
            "text/html": [
              "<div>\n",
              "<style scoped>\n",
              "    .dataframe tbody tr th:only-of-type {\n",
              "        vertical-align: middle;\n",
              "    }\n",
              "\n",
              "    .dataframe tbody tr th {\n",
              "        vertical-align: top;\n",
              "    }\n",
              "\n",
              "    .dataframe thead th {\n",
              "        text-align: right;\n",
              "    }\n",
              "</style>\n",
              "<table border=\"1\" class=\"dataframe\">\n",
              "  <thead>\n",
              "    <tr style=\"text-align: right;\">\n",
              "      <th></th>\n",
              "      <th>Microtasks</th>\n",
              "      <th>salary</th>\n",
              "    </tr>\n",
              "  </thead>\n",
              "  <tbody>\n",
              "    <tr>\n",
              "      <th>count</th>\n",
              "      <td>1697.000000</td>\n",
              "      <td>1697.000000</td>\n",
              "    </tr>\n",
              "    <tr>\n",
              "      <th>mean</th>\n",
              "      <td>1341.913377</td>\n",
              "      <td>14761.047142</td>\n",
              "    </tr>\n",
              "    <tr>\n",
              "      <th>std</th>\n",
              "      <td>2748.802882</td>\n",
              "      <td>30236.831707</td>\n",
              "    </tr>\n",
              "    <tr>\n",
              "      <th>min</th>\n",
              "      <td>1.000000</td>\n",
              "      <td>11.000000</td>\n",
              "    </tr>\n",
              "    <tr>\n",
              "      <th>25%</th>\n",
              "      <td>92.000000</td>\n",
              "      <td>1012.000000</td>\n",
              "    </tr>\n",
              "    <tr>\n",
              "      <th>50%</th>\n",
              "      <td>400.000000</td>\n",
              "      <td>4400.000000</td>\n",
              "    </tr>\n",
              "    <tr>\n",
              "      <th>75%</th>\n",
              "      <td>1435.000000</td>\n",
              "      <td>15785.000000</td>\n",
              "    </tr>\n",
              "    <tr>\n",
              "      <th>max</th>\n",
              "      <td>35364.000000</td>\n",
              "      <td>389004.000000</td>\n",
              "    </tr>\n",
              "  </tbody>\n",
              "</table>\n",
              "</div>"
            ],
            "text/plain": [
              "         Microtasks         salary\n",
              "count   1697.000000    1697.000000\n",
              "mean    1341.913377   14761.047142\n",
              "std     2748.802882   30236.831707\n",
              "min        1.000000      11.000000\n",
              "25%       92.000000    1012.000000\n",
              "50%      400.000000    4400.000000\n",
              "75%     1435.000000   15785.000000\n",
              "max    35364.000000  389004.000000"
            ]
          },
          "metadata": {
            "tags": []
          },
          "execution_count": 30
        }
      ]
    },
    {
      "cell_type": "code",
      "metadata": {
        "id": "n-_T1GFw7f6V",
        "outputId": "242e0b08-831e-4761-95c1-bc88864fa7f4",
        "colab": {
          "base_uri": "https://localhost:8080/",
          "height": 282
        }
      },
      "source": [
        "df_tmp.salary.hist(bins=100)"
      ],
      "execution_count": null,
      "outputs": [
        {
          "output_type": "execute_result",
          "data": {
            "text/plain": [
              "<matplotlib.axes._subplots.AxesSubplot at 0x7fdc8ab3d320>"
            ]
          },
          "metadata": {
            "tags": []
          },
          "execution_count": 31
        },
        {
          "output_type": "display_data",
          "data": {
            "image/png": "[encoded data removed]",
            "text/plain": [
              "<Figure size 432x288 with 1 Axes>"
            ]
          },
          "metadata": {
            "tags": [],
            "needs_background": "light"
          }
        }
      ]
    },
    {
      "cell_type": "markdown",
      "metadata": {
        "id": "EofF6e1y7_rd"
      },
      "source": [
        "##### Вывод\n",
        "\n",
        "Основная масса окладов сконцентрированна до 50 тыс. рублей, средняя з/п почти 15 тыс. рублей, медианное значение равняется 4,5 тыс. рублей, а 75% всего объема окладов состаялет почти 16 тыс. рублей. Приведенные статистические показатели укладывается в среднестатический уровень зарплат. Максимальный уровень дохода рассчитан на уровне 390 тыс. рублей - для разбирательства с этим случаем нужна более глубокая аналитика. "
      ]
    },
    {
      "cell_type": "code",
      "metadata": {
        "id": "Nhx-K7ba8b29"
      },
      "source": [
        ""
      ],
      "execution_count": null,
      "outputs": []
    }
  ]
}