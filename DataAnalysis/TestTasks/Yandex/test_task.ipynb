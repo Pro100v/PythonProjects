{
 "cells": [
  {
   "cell_type": "markdown",
   "metadata": {},
   "source": [
    "**Вопрос 1**\n",
    "\n",
    "Имеется файл https://yadi.sk/i/IxBCaRP83Kz8dj с временной статистикой работы асессоров над однотипным заданием.\n",
    "\n",
    "Формат файла: login tid Microtasks assigned_ts tclosed_ts. Пояснение к формату: \n",
    "- **login** — логин асессора; \n",
    "- **tid** — id оцениваемого задания (task id); \n",
    "- **Microtasks** – количество микрозаданий в одном задании; \n",
    "- **assigned_ts** — время резервирования системой задания для асессора; \n",
    "- **closed_ts** — точное время завершения работы над заданием; разделитель — табуляция \\t.\n",
    "\n",
    "Задание может состоять из одного или несколько микрозаданий. Время резервирования задания (assigned_ts) указывает на тот момент, когда система назначила определенного асессора исполнителем этого задания. Этот момент может совпадать с временем начала работы асессора над заданием, а может и не совпадать (асессор может отойти выпить чаю, а потом приступить к заданию, асессор может выполнять предыдущее задание, в то время как за ним зарезервированы новые).\n",
    "\n",
    "Предположим, что асессор за 30 секунд своего рабочего времени получает N рублей.\n",
    "\n",
    "Какую оплату вы считаете справедливой для выполнения асессором одного микрозадания из этого файла? Опишите подробно все этапы вашего решения."
   ]
  },
  {
   "cell_type": "markdown",
   "metadata": {},
   "source": [
    "### Проработка: \n",
    "\n",
    "#### Идея\n",
    "- рассчитать среднее значение времени на выполнение одной микрозадачи \n",
    "- исходя из полученного не предыдущем шаге среднего значения, рассчитать количество микрозадач, которые может выполнить асессор в режиме работы 5/8. В расчетах использовать допущение, что асессор на выполнение работы тратит 80% от всего рабочего времени. \n",
    "- в качестве допущения, взять среднюю заработную плату в размере **30 0000 рублей** и разделить ее на количество микрозадач, которые может выполняит асессор в месяц\n",
    "- получим стоимсть выполнения одной микрозадачи. **done**\n",
    "\n",
    "#### Работа с данными\n",
    "1. Определить и удалить ложные данные в датасете\n",
    "2. Посмотреть наличие выбросов и попытаться их устранить, для работы с более значимыми данными\n",
    "\n",
    "#### Рассчеты\n",
    "1. Высчитать время выполнения всего задания. **Цель:** возможность для среднего времени выполнения одной микрозадачи.**\n",
    "2. Посчитать среднее время на выполнение одной микрозадачи. **Цель:** для оперирования в последующих расчетах средним временем на выполнения микрозадачи и в последствии выйти на приемлемую оплату\n",
    "3. (~) Определить сколько временных слотов по 30 сек. требуется для выполнения одной микрозадачи. **Цель:** получение коэфициента стоимости работ асессора за выполнения средней велечины выполнения одной микрозадачи, исходя из тарифа в N рублей за 30 секунд.\n",
    "4. Рассчитать медианный показатель (медиана сгладит негативный эффект \"грязного\" времени выполнения микрозадачи) выполнения одной микрозадачи, сгруппированных по месяцам. Цель: получить \n"
   ]
  },
  {
   "cell_type": "code",
   "execution_count": 1,
   "metadata": {},
   "outputs": [],
   "source": [
    "import pandas as pd\n",
    "from datetime import datetime, timedelta"
   ]
  },
  {
   "cell_type": "code",
   "execution_count": 2,
   "metadata": {},
   "outputs": [],
   "source": [
    "import requests\n",
    "from urllib.parse import urlencode"
   ]
  },
  {
   "cell_type": "code",
   "execution_count": 22,
   "metadata": {},
   "outputs": [],
   "source": [
    "import seaborn as sns\n",
    "from matplotlib import pyplot as plt"
   ]
  },
  {
   "cell_type": "code",
   "execution_count": 3,
   "metadata": {},
   "outputs": [
    {
     "data": {
      "text/plain": [
       "'https://downloader.disk.yandex.ru/disk/8005def7e19591d4ce99e948c809df8e8b8a2ebd572d9804528be236553b399a/5f7605d7/bu92kZqLm5Gkr9yvLBQQ4I6AHYj-Ltsyp_feXYifhcw0wSq6PtNoJYAMAIdyZalbSUFzq3USfP7D_1XF6bRulA%3D%3D?uid=0&filename=data_task4_old.txt&disposition=attachment&hash=TKpkeqTtSkR3GS3SLe56%2BbV1Ms0cpBwIePhPjMDAMi4%3D%3A&limit=0&content_type=text%2Fplain&owner_uid=45647354&fsize=45540847&hid=1a360c0e2a08dceec4f4a4c225706cd9&media_type=document&tknv=v2'"
      ]
     },
     "execution_count": 3,
     "metadata": {},
     "output_type": "execute_result"
    }
   ],
   "source": [
    "base_url = 'https://cloud-api.yandex.net/v1/disk/public/resources/download?'\n",
    "public_key = 'https://yadi.sk/i/IxBCaRP83Kz8dj'  # Сюда вписываете вашу ссылку\n",
    "\n",
    "# Получаем загрузочную ссылку\n",
    "final_url = base_url + urlencode(dict(public_key=public_key))\n",
    "response = requests.get(final_url)\n",
    "download_url = response.json()['href']\n",
    "download_url"
   ]
  },
  {
   "cell_type": "code",
   "execution_count": 4,
   "metadata": {},
   "outputs": [
    {
     "data": {
      "text/html": [
       "<div>\n",
       "<style scoped>\n",
       "    .dataframe tbody tr th:only-of-type {\n",
       "        vertical-align: middle;\n",
       "    }\n",
       "\n",
       "    .dataframe tbody tr th {\n",
       "        vertical-align: top;\n",
       "    }\n",
       "\n",
       "    .dataframe thead th {\n",
       "        text-align: right;\n",
       "    }\n",
       "</style>\n",
       "<table border=\"1\" class=\"dataframe\">\n",
       "  <thead>\n",
       "    <tr style=\"text-align: right;\">\n",
       "      <th></th>\n",
       "      <th>login</th>\n",
       "      <th>tid</th>\n",
       "      <th>Microtasks</th>\n",
       "      <th>assigned_ts</th>\n",
       "      <th>closed_ts</th>\n",
       "    </tr>\n",
       "  </thead>\n",
       "  <tbody>\n",
       "    <tr>\n",
       "      <th>0</th>\n",
       "      <td>login0</td>\n",
       "      <td>190563850.0</td>\n",
       "      <td>4.0</td>\n",
       "      <td>2017-04-20 12:09:39</td>\n",
       "      <td>2017-04-20 13:13:01</td>\n",
       "    </tr>\n",
       "    <tr>\n",
       "      <th>1</th>\n",
       "      <td>login0</td>\n",
       "      <td>190561754.0</td>\n",
       "      <td>1.0</td>\n",
       "      <td>2017-04-20 12:10:30</td>\n",
       "      <td>2017-04-20 12:28:29</td>\n",
       "    </tr>\n",
       "    <tr>\n",
       "      <th>2</th>\n",
       "      <td>login0</td>\n",
       "      <td>190565906.0</td>\n",
       "      <td>4.0</td>\n",
       "      <td>2017-04-20 12:21:31</td>\n",
       "      <td>2017-04-20 13:30:10</td>\n",
       "    </tr>\n",
       "    <tr>\n",
       "      <th>3</th>\n",
       "      <td>login0</td>\n",
       "      <td>190560246.0</td>\n",
       "      <td>1.0</td>\n",
       "      <td>2017-04-20 12:28:30</td>\n",
       "      <td>2017-04-20 13:13:56</td>\n",
       "    </tr>\n",
       "    <tr>\n",
       "      <th>4</th>\n",
       "      <td>login0</td>\n",
       "      <td>190562168.0</td>\n",
       "      <td>2.0</td>\n",
       "      <td>2017-04-20 12:28:42</td>\n",
       "      <td>2017-04-20 13:14:50</td>\n",
       "    </tr>\n",
       "  </tbody>\n",
       "</table>\n",
       "</div>"
      ],
      "text/plain": [
       "    login          tid  Microtasks         assigned_ts           closed_ts\n",
       "0  login0  190563850.0         4.0 2017-04-20 12:09:39 2017-04-20 13:13:01\n",
       "1  login0  190561754.0         1.0 2017-04-20 12:10:30 2017-04-20 12:28:29\n",
       "2  login0  190565906.0         4.0 2017-04-20 12:21:31 2017-04-20 13:30:10\n",
       "3  login0  190560246.0         1.0 2017-04-20 12:28:30 2017-04-20 13:13:56\n",
       "4  login0  190562168.0         2.0 2017-04-20 12:28:42 2017-04-20 13:14:50"
      ]
     },
     "execution_count": 4,
     "metadata": {},
     "output_type": "execute_result"
    }
   ],
   "source": [
    "\n",
    "# file = 'data/data_task4_old.txt'\n",
    "file = download_url\n",
    "df = pd.read_csv(download_url, sep='\\t', nrows=None, parse_dates=['assigned_ts', 'closed_ts'], dayfirst=False)\n",
    "df.head()"
   ]
  },
  {
   "cell_type": "code",
   "execution_count": 5,
   "metadata": {},
   "outputs": [
    {
     "data": {
      "text/html": [
       "<div>\n",
       "<style scoped>\n",
       "    .dataframe tbody tr th:only-of-type {\n",
       "        vertical-align: middle;\n",
       "    }\n",
       "\n",
       "    .dataframe tbody tr th {\n",
       "        vertical-align: top;\n",
       "    }\n",
       "\n",
       "    .dataframe thead th {\n",
       "        text-align: right;\n",
       "    }\n",
       "</style>\n",
       "<table border=\"1\" class=\"dataframe\">\n",
       "  <thead>\n",
       "    <tr style=\"text-align: right;\">\n",
       "      <th></th>\n",
       "      <th>login</th>\n",
       "      <th>tid</th>\n",
       "      <th>Microtasks</th>\n",
       "      <th>assigned_ts</th>\n",
       "      <th>closed_ts</th>\n",
       "    </tr>\n",
       "  </thead>\n",
       "  <tbody>\n",
       "    <tr>\n",
       "      <th>534453</th>\n",
       "      <td>login585</td>\n",
       "      <td>197340894.0</td>\n",
       "      <td>1.0</td>\n",
       "      <td>2017-05-24 16:13:06</td>\n",
       "      <td>2017-05-24 16:00:57</td>\n",
       "    </tr>\n",
       "  </tbody>\n",
       "</table>\n",
       "</div>"
      ],
      "text/plain": [
       "           login          tid  Microtasks         assigned_ts  \\\n",
       "534453  login585  197340894.0         1.0 2017-05-24 16:13:06   \n",
       "\n",
       "                 closed_ts  \n",
       "534453 2017-05-24 16:00:57  "
      ]
     },
     "execution_count": 5,
     "metadata": {},
     "output_type": "execute_result"
    }
   ],
   "source": [
    "indxr = df[df.assigned_ts\t>= df.closed_ts]\n",
    "indxr"
   ]
  },
  {
   "cell_type": "code",
   "execution_count": 6,
   "metadata": {},
   "outputs": [],
   "source": [
    "# удаление \"ложных\" данных\n",
    "df.drop(indxr.index, inplace=True)"
   ]
  },
  {
   "cell_type": "code",
   "execution_count": 7,
   "metadata": {},
   "outputs": [
    {
     "data": {
      "text/html": [
       "<div>\n",
       "<style scoped>\n",
       "    .dataframe tbody tr th:only-of-type {\n",
       "        vertical-align: middle;\n",
       "    }\n",
       "\n",
       "    .dataframe tbody tr th {\n",
       "        vertical-align: top;\n",
       "    }\n",
       "\n",
       "    .dataframe thead th {\n",
       "        text-align: right;\n",
       "    }\n",
       "</style>\n",
       "<table border=\"1\" class=\"dataframe\">\n",
       "  <thead>\n",
       "    <tr style=\"text-align: right;\">\n",
       "      <th></th>\n",
       "      <th>login</th>\n",
       "      <th>tid</th>\n",
       "      <th>Microtasks</th>\n",
       "      <th>assigned_ts</th>\n",
       "      <th>closed_ts</th>\n",
       "    </tr>\n",
       "  </thead>\n",
       "  <tbody>\n",
       "    <tr>\n",
       "      <th>0</th>\n",
       "      <td>login0</td>\n",
       "      <td>190563850.0</td>\n",
       "      <td>4.0</td>\n",
       "      <td>2017-04-20 12:09:39</td>\n",
       "      <td>2017-04-20 13:13:01</td>\n",
       "    </tr>\n",
       "    <tr>\n",
       "      <th>1</th>\n",
       "      <td>login0</td>\n",
       "      <td>190561754.0</td>\n",
       "      <td>1.0</td>\n",
       "      <td>2017-04-20 12:10:30</td>\n",
       "      <td>2017-04-20 12:28:29</td>\n",
       "    </tr>\n",
       "    <tr>\n",
       "      <th>2</th>\n",
       "      <td>login0</td>\n",
       "      <td>190565906.0</td>\n",
       "      <td>4.0</td>\n",
       "      <td>2017-04-20 12:21:31</td>\n",
       "      <td>2017-04-20 13:30:10</td>\n",
       "    </tr>\n",
       "    <tr>\n",
       "      <th>3</th>\n",
       "      <td>login0</td>\n",
       "      <td>190560246.0</td>\n",
       "      <td>1.0</td>\n",
       "      <td>2017-04-20 12:28:30</td>\n",
       "      <td>2017-04-20 13:13:56</td>\n",
       "    </tr>\n",
       "    <tr>\n",
       "      <th>4</th>\n",
       "      <td>login0</td>\n",
       "      <td>190562168.0</td>\n",
       "      <td>2.0</td>\n",
       "      <td>2017-04-20 12:28:42</td>\n",
       "      <td>2017-04-20 13:14:50</td>\n",
       "    </tr>\n",
       "  </tbody>\n",
       "</table>\n",
       "</div>"
      ],
      "text/plain": [
       "    login          tid  Microtasks         assigned_ts           closed_ts\n",
       "0  login0  190563850.0         4.0 2017-04-20 12:09:39 2017-04-20 13:13:01\n",
       "1  login0  190561754.0         1.0 2017-04-20 12:10:30 2017-04-20 12:28:29\n",
       "2  login0  190565906.0         4.0 2017-04-20 12:21:31 2017-04-20 13:30:10\n",
       "3  login0  190560246.0         1.0 2017-04-20 12:28:30 2017-04-20 13:13:56\n",
       "4  login0  190562168.0         2.0 2017-04-20 12:28:42 2017-04-20 13:14:50"
      ]
     },
     "execution_count": 7,
     "metadata": {},
     "output_type": "execute_result"
    }
   ],
   "source": [
    "# filter = df.assigned_ts\t>= df.closed_ts\n",
    "df_tmp = df.head().copy()\n",
    "df_tmp"
   ]
  },
  {
   "cell_type": "code",
   "execution_count": 8,
   "metadata": {},
   "outputs": [
    {
     "data": {
      "text/html": [
       "<div>\n",
       "<style scoped>\n",
       "    .dataframe tbody tr th:only-of-type {\n",
       "        vertical-align: middle;\n",
       "    }\n",
       "\n",
       "    .dataframe tbody tr th {\n",
       "        vertical-align: top;\n",
       "    }\n",
       "\n",
       "    .dataframe thead th {\n",
       "        text-align: right;\n",
       "    }\n",
       "</style>\n",
       "<table border=\"1\" class=\"dataframe\">\n",
       "  <thead>\n",
       "    <tr style=\"text-align: right;\">\n",
       "      <th></th>\n",
       "      <th>login</th>\n",
       "      <th>tid</th>\n",
       "      <th>Microtasks</th>\n",
       "      <th>assigned_ts</th>\n",
       "      <th>closed_ts</th>\n",
       "    </tr>\n",
       "  </thead>\n",
       "  <tbody>\n",
       "    <tr>\n",
       "      <th>0</th>\n",
       "      <td>login0</td>\n",
       "      <td>190563850.0</td>\n",
       "      <td>4.0</td>\n",
       "      <td>2017-04-20 12:09:39</td>\n",
       "      <td>2017-04-20 13:13:01</td>\n",
       "    </tr>\n",
       "    <tr>\n",
       "      <th>2</th>\n",
       "      <td>login0</td>\n",
       "      <td>190565906.0</td>\n",
       "      <td>4.0</td>\n",
       "      <td>2017-04-20 12:21:31</td>\n",
       "      <td>2017-04-20 13:30:10</td>\n",
       "    </tr>\n",
       "    <tr>\n",
       "      <th>4</th>\n",
       "      <td>login0</td>\n",
       "      <td>190562168.0</td>\n",
       "      <td>2.0</td>\n",
       "      <td>2017-04-20 12:28:42</td>\n",
       "      <td>2017-04-20 13:14:50</td>\n",
       "    </tr>\n",
       "  </tbody>\n",
       "</table>\n",
       "</div>"
      ],
      "text/plain": [
       "    login          tid  Microtasks         assigned_ts           closed_ts\n",
       "0  login0  190563850.0         4.0 2017-04-20 12:09:39 2017-04-20 13:13:01\n",
       "2  login0  190565906.0         4.0 2017-04-20 12:21:31 2017-04-20 13:30:10\n",
       "4  login0  190562168.0         2.0 2017-04-20 12:28:42 2017-04-20 13:14:50"
      ]
     },
     "execution_count": 8,
     "metadata": {},
     "output_type": "execute_result"
    }
   ],
   "source": [
    "# df_tmp[df_tmp['Microtasks'] < 2].drop(axis=0, inplace=True)\n",
    "# df_tmp.drop((df_tmp['Microtasks'] < 2), inplace=True)\n",
    "indxr = df_tmp[df_tmp['Microtasks'] < 2].index\n",
    "df_tmp.drop(indxr, inplace=True)\n",
    "df_tmp\n"
   ]
  },
  {
   "cell_type": "code",
   "execution_count": 9,
   "metadata": {},
   "outputs": [
    {
     "data": {
      "text/html": [
       "<div>\n",
       "<style scoped>\n",
       "    .dataframe tbody tr th:only-of-type {\n",
       "        vertical-align: middle;\n",
       "    }\n",
       "\n",
       "    .dataframe tbody tr th {\n",
       "        vertical-align: top;\n",
       "    }\n",
       "\n",
       "    .dataframe thead th {\n",
       "        text-align: right;\n",
       "    }\n",
       "</style>\n",
       "<table border=\"1\" class=\"dataframe\">\n",
       "  <thead>\n",
       "    <tr style=\"text-align: right;\">\n",
       "      <th></th>\n",
       "      <th>login</th>\n",
       "      <th>tid</th>\n",
       "      <th>Microtasks</th>\n",
       "      <th>assigned_ts</th>\n",
       "      <th>closed_ts</th>\n",
       "      <th>tm_delta_seconds</th>\n",
       "      <th>microtasks_per_seconds</th>\n",
       "    </tr>\n",
       "  </thead>\n",
       "  <tbody>\n",
       "    <tr>\n",
       "      <th>0</th>\n",
       "      <td>login0</td>\n",
       "      <td>190563850.0</td>\n",
       "      <td>4.0</td>\n",
       "      <td>2017-04-20 12:09:39</td>\n",
       "      <td>2017-04-20 13:13:01</td>\n",
       "      <td>3802.0</td>\n",
       "      <td>950.50</td>\n",
       "    </tr>\n",
       "    <tr>\n",
       "      <th>2</th>\n",
       "      <td>login0</td>\n",
       "      <td>190565906.0</td>\n",
       "      <td>4.0</td>\n",
       "      <td>2017-04-20 12:21:31</td>\n",
       "      <td>2017-04-20 13:30:10</td>\n",
       "      <td>4119.0</td>\n",
       "      <td>1029.75</td>\n",
       "    </tr>\n",
       "    <tr>\n",
       "      <th>4</th>\n",
       "      <td>login0</td>\n",
       "      <td>190562168.0</td>\n",
       "      <td>2.0</td>\n",
       "      <td>2017-04-20 12:28:42</td>\n",
       "      <td>2017-04-20 13:14:50</td>\n",
       "      <td>2768.0</td>\n",
       "      <td>1384.00</td>\n",
       "    </tr>\n",
       "  </tbody>\n",
       "</table>\n",
       "</div>"
      ],
      "text/plain": [
       "    login          tid  Microtasks         assigned_ts           closed_ts  \\\n",
       "0  login0  190563850.0         4.0 2017-04-20 12:09:39 2017-04-20 13:13:01   \n",
       "2  login0  190565906.0         4.0 2017-04-20 12:21:31 2017-04-20 13:30:10   \n",
       "4  login0  190562168.0         2.0 2017-04-20 12:28:42 2017-04-20 13:14:50   \n",
       "\n",
       "   tm_delta_seconds  microtasks_per_seconds  \n",
       "0            3802.0                  950.50  \n",
       "2            4119.0                 1029.75  \n",
       "4            2768.0                 1384.00  "
      ]
     },
     "execution_count": 9,
     "metadata": {},
     "output_type": "execute_result"
    }
   ],
   "source": [
    "df_tmp['tm_delta_seconds'] = (df_tmp.closed_ts - df_tmp.assigned_ts) / timedelta(seconds=1)\n",
    "df_tmp['microtasks_per_seconds'] = df_tmp.tm_delta_seconds / df_tmp.Microtasks\n",
    "df_tmp"
   ]
  },
  {
   "cell_type": "code",
   "execution_count": 11,
   "metadata": {},
   "outputs": [],
   "source": [
    "# Рассчитаем время на выполнение задачи в секундах\n",
    "df['tm_delta_seconds'] = (df.closed_ts - df.assigned_ts) / timedelta(seconds=1)\n",
    "\n",
    "# вычислим время выполнения одной микрозадачи в секундах\n",
    "df['microtasks_per_seconds'] = df.tm_delta_seconds / df.Microtasks\n",
    "\n",
    "# разделим весь массив данных на 4 равных по количеству записей, чтобы вычислить эффективность выполнения задач \n",
    "# 1 - группа с самым быстрым выполнением задач, последующие группы уменьшают долю на 25%. \n",
    "# 0,25 - группа с самыми медленно выполняемыми задачами\n",
    "df['productivity_rate'] = pd.qcut(df.microtasks_per_seconds, q=4, labels=[1, 0.75, 0.5, 0.25])\n",
    "\n",
    "# высчитаем сколько временных слотов по 30 секунд выполнялось задание \n",
    "df['task_slots'] = (df.tm_delta_seconds / 30)\n",
    "\n",
    "# высчитаем сколько временных слотов по 30 секунд выполнялось микрозадание \n",
    "df['microtask_slots'] = (df.microtasks_per_seconds / 30)\n",
    "\n",
    "# вычисляем ставку оплаты с учетом коэффициента эффективности выполнения задачи. \n",
    "df['price_rate'] = df.microtask_slots * df.productivity_rate.astype('float')"
   ]
  },
  {
   "cell_type": "code",
   "execution_count": 12,
   "metadata": {},
   "outputs": [
    {
     "data": {
      "text/plain": [
       "1.00    177397\n",
       "0.75    175500\n",
       "0.25    174959\n",
       "0.50    173970\n",
       "Name: productivity_rate, dtype: int64"
      ]
     },
     "execution_count": 12,
     "metadata": {},
     "output_type": "execute_result"
    }
   ],
   "source": [
    "df['productivity_rate'].value_counts()"
   ]
  },
  {
   "cell_type": "code",
   "execution_count": 13,
   "metadata": {},
   "outputs": [
    {
     "data": {
      "text/html": [
       "<div>\n",
       "<style scoped>\n",
       "    .dataframe tbody tr th:only-of-type {\n",
       "        vertical-align: middle;\n",
       "    }\n",
       "\n",
       "    .dataframe tbody tr th {\n",
       "        vertical-align: top;\n",
       "    }\n",
       "\n",
       "    .dataframe thead th {\n",
       "        text-align: right;\n",
       "    }\n",
       "</style>\n",
       "<table border=\"1\" class=\"dataframe\">\n",
       "  <thead>\n",
       "    <tr style=\"text-align: right;\">\n",
       "      <th></th>\n",
       "      <th>login</th>\n",
       "      <th>tid</th>\n",
       "      <th>Microtasks</th>\n",
       "      <th>assigned_ts</th>\n",
       "      <th>closed_ts</th>\n",
       "      <th>tm_delta_seconds</th>\n",
       "      <th>microtasks_per_seconds</th>\n",
       "      <th>productivity_rate</th>\n",
       "      <th>task_slots</th>\n",
       "      <th>microtask_slots</th>\n",
       "      <th>price_rate</th>\n",
       "    </tr>\n",
       "  </thead>\n",
       "  <tbody>\n",
       "    <tr>\n",
       "      <th>483008</th>\n",
       "      <td>login525</td>\n",
       "      <td>171273984.0</td>\n",
       "      <td>3.0</td>\n",
       "      <td>2017-05-31 13:14:21</td>\n",
       "      <td>2017-06-01 06:15:50</td>\n",
       "      <td>61289.0</td>\n",
       "      <td>20429.666667</td>\n",
       "      <td>0.25</td>\n",
       "      <td>2042.966667</td>\n",
       "      <td>680.988889</td>\n",
       "      <td>170.247222</td>\n",
       "    </tr>\n",
       "    <tr>\n",
       "      <th>663844</th>\n",
       "      <td>login727</td>\n",
       "      <td>192852562.0</td>\n",
       "      <td>12.0</td>\n",
       "      <td>2017-04-30 08:21:43</td>\n",
       "      <td>2017-04-30 09:06:38</td>\n",
       "      <td>2695.0</td>\n",
       "      <td>224.583333</td>\n",
       "      <td>0.25</td>\n",
       "      <td>89.833333</td>\n",
       "      <td>7.486111</td>\n",
       "      <td>1.871528</td>\n",
       "    </tr>\n",
       "    <tr>\n",
       "      <th>343291</th>\n",
       "      <td>login360</td>\n",
       "      <td>198165661.0</td>\n",
       "      <td>6.0</td>\n",
       "      <td>2017-05-30 15:28:55</td>\n",
       "      <td>2017-05-30 16:50:08</td>\n",
       "      <td>4873.0</td>\n",
       "      <td>812.166667</td>\n",
       "      <td>0.25</td>\n",
       "      <td>162.433333</td>\n",
       "      <td>27.072222</td>\n",
       "      <td>6.768056</td>\n",
       "    </tr>\n",
       "    <tr>\n",
       "      <th>236051</th>\n",
       "      <td>login224</td>\n",
       "      <td>197042680.0</td>\n",
       "      <td>4.0</td>\n",
       "      <td>2017-05-23 10:30:01</td>\n",
       "      <td>2017-05-23 10:31:52</td>\n",
       "      <td>111.0</td>\n",
       "      <td>27.750000</td>\n",
       "      <td>1.00</td>\n",
       "      <td>3.700000</td>\n",
       "      <td>0.925000</td>\n",
       "      <td>0.925000</td>\n",
       "    </tr>\n",
       "    <tr>\n",
       "      <th>39501</th>\n",
       "      <td>login28</td>\n",
       "      <td>198375701.0</td>\n",
       "      <td>2.0</td>\n",
       "      <td>2017-06-01 01:56:18</td>\n",
       "      <td>2017-06-01 02:10:18</td>\n",
       "      <td>840.0</td>\n",
       "      <td>420.000000</td>\n",
       "      <td>0.25</td>\n",
       "      <td>28.000000</td>\n",
       "      <td>14.000000</td>\n",
       "      <td>3.500000</td>\n",
       "    </tr>\n",
       "    <tr>\n",
       "      <th>252220</th>\n",
       "      <td>login242</td>\n",
       "      <td>197713574.0</td>\n",
       "      <td>1.0</td>\n",
       "      <td>2017-05-26 21:47:41</td>\n",
       "      <td>2017-05-26 21:48:10</td>\n",
       "      <td>29.0</td>\n",
       "      <td>29.000000</td>\n",
       "      <td>1.00</td>\n",
       "      <td>0.966667</td>\n",
       "      <td>0.966667</td>\n",
       "      <td>0.966667</td>\n",
       "    </tr>\n",
       "    <tr>\n",
       "      <th>426911</th>\n",
       "      <td>login468</td>\n",
       "      <td>191383230.0</td>\n",
       "      <td>1.0</td>\n",
       "      <td>2017-04-23 16:18:48</td>\n",
       "      <td>2017-04-23 16:19:39</td>\n",
       "      <td>51.0</td>\n",
       "      <td>51.000000</td>\n",
       "      <td>0.75</td>\n",
       "      <td>1.700000</td>\n",
       "      <td>1.700000</td>\n",
       "      <td>1.275000</td>\n",
       "    </tr>\n",
       "    <tr>\n",
       "      <th>118491</th>\n",
       "      <td>login111</td>\n",
       "      <td>194747480.0</td>\n",
       "      <td>1.0</td>\n",
       "      <td>2017-05-10 11:51:16</td>\n",
       "      <td>2017-05-10 11:51:56</td>\n",
       "      <td>40.0</td>\n",
       "      <td>40.000000</td>\n",
       "      <td>0.75</td>\n",
       "      <td>1.333333</td>\n",
       "      <td>1.333333</td>\n",
       "      <td>1.000000</td>\n",
       "    </tr>\n",
       "    <tr>\n",
       "      <th>276365</th>\n",
       "      <td>login274</td>\n",
       "      <td>198527257.0</td>\n",
       "      <td>1.0</td>\n",
       "      <td>2017-06-01 21:22:00</td>\n",
       "      <td>2017-06-01 21:28:27</td>\n",
       "      <td>387.0</td>\n",
       "      <td>387.000000</td>\n",
       "      <td>0.25</td>\n",
       "      <td>12.900000</td>\n",
       "      <td>12.900000</td>\n",
       "      <td>3.225000</td>\n",
       "    </tr>\n",
       "    <tr>\n",
       "      <th>432759</th>\n",
       "      <td>login469</td>\n",
       "      <td>196670632.0</td>\n",
       "      <td>4.0</td>\n",
       "      <td>2017-05-20 15:02:11</td>\n",
       "      <td>2017-05-20 15:04:31</td>\n",
       "      <td>140.0</td>\n",
       "      <td>35.000000</td>\n",
       "      <td>1.00</td>\n",
       "      <td>4.666667</td>\n",
       "      <td>1.166667</td>\n",
       "      <td>1.166667</td>\n",
       "    </tr>\n",
       "  </tbody>\n",
       "</table>\n",
       "</div>"
      ],
      "text/plain": [
       "           login          tid  Microtasks         assigned_ts  \\\n",
       "483008  login525  171273984.0         3.0 2017-05-31 13:14:21   \n",
       "663844  login727  192852562.0        12.0 2017-04-30 08:21:43   \n",
       "343291  login360  198165661.0         6.0 2017-05-30 15:28:55   \n",
       "236051  login224  197042680.0         4.0 2017-05-23 10:30:01   \n",
       "39501    login28  198375701.0         2.0 2017-06-01 01:56:18   \n",
       "252220  login242  197713574.0         1.0 2017-05-26 21:47:41   \n",
       "426911  login468  191383230.0         1.0 2017-04-23 16:18:48   \n",
       "118491  login111  194747480.0         1.0 2017-05-10 11:51:16   \n",
       "276365  login274  198527257.0         1.0 2017-06-01 21:22:00   \n",
       "432759  login469  196670632.0         4.0 2017-05-20 15:02:11   \n",
       "\n",
       "                 closed_ts  tm_delta_seconds  microtasks_per_seconds  \\\n",
       "483008 2017-06-01 06:15:50           61289.0            20429.666667   \n",
       "663844 2017-04-30 09:06:38            2695.0              224.583333   \n",
       "343291 2017-05-30 16:50:08            4873.0              812.166667   \n",
       "236051 2017-05-23 10:31:52             111.0               27.750000   \n",
       "39501  2017-06-01 02:10:18             840.0              420.000000   \n",
       "252220 2017-05-26 21:48:10              29.0               29.000000   \n",
       "426911 2017-04-23 16:19:39              51.0               51.000000   \n",
       "118491 2017-05-10 11:51:56              40.0               40.000000   \n",
       "276365 2017-06-01 21:28:27             387.0              387.000000   \n",
       "432759 2017-05-20 15:04:31             140.0               35.000000   \n",
       "\n",
       "       productivity_rate   task_slots  microtask_slots  price_rate  \n",
       "483008              0.25  2042.966667       680.988889  170.247222  \n",
       "663844              0.25    89.833333         7.486111    1.871528  \n",
       "343291              0.25   162.433333        27.072222    6.768056  \n",
       "236051              1.00     3.700000         0.925000    0.925000  \n",
       "39501               0.25    28.000000        14.000000    3.500000  \n",
       "252220              1.00     0.966667         0.966667    0.966667  \n",
       "426911              0.75     1.700000         1.700000    1.275000  \n",
       "118491              0.75     1.333333         1.333333    1.000000  \n",
       "276365              0.25    12.900000        12.900000    3.225000  \n",
       "432759              1.00     4.666667         1.166667    1.166667  "
      ]
     },
     "execution_count": 13,
     "metadata": {},
     "output_type": "execute_result"
    }
   ],
   "source": [
    "df.sample(10)"
   ]
  },
  {
   "cell_type": "code",
   "execution_count": 14,
   "metadata": {},
   "outputs": [],
   "source": [
    "# df_res = df.groupby(['login']).agg({'Microtasks':'sum', 'price_rate': 'sum'})\n",
    "df_res = df.groupby(by=[df.assigned_ts.dt.month_name(), 'login']).agg({'Microtasks':'sum', 'price_rate': 'sum'})"
   ]
  },
  {
   "cell_type": "code",
   "execution_count": 15,
   "metadata": {},
   "outputs": [],
   "source": [
    "df_res['price_per_microtasks'] = df_res.price_rate / df_res.Microtasks \n"
   ]
  },
  {
   "cell_type": "code",
   "execution_count": 16,
   "metadata": {},
   "outputs": [
    {
     "data": {
      "text/html": [
       "<div>\n",
       "<style scoped>\n",
       "    .dataframe tbody tr th:only-of-type {\n",
       "        vertical-align: middle;\n",
       "    }\n",
       "\n",
       "    .dataframe tbody tr th {\n",
       "        vertical-align: top;\n",
       "    }\n",
       "\n",
       "    .dataframe thead th {\n",
       "        text-align: right;\n",
       "    }\n",
       "</style>\n",
       "<table border=\"1\" class=\"dataframe\">\n",
       "  <thead>\n",
       "    <tr style=\"text-align: right;\">\n",
       "      <th></th>\n",
       "      <th></th>\n",
       "      <th>Microtasks</th>\n",
       "      <th>price_rate</th>\n",
       "      <th>price_per_microtasks</th>\n",
       "    </tr>\n",
       "    <tr>\n",
       "      <th>assigned_ts</th>\n",
       "      <th>login</th>\n",
       "      <th></th>\n",
       "      <th></th>\n",
       "      <th></th>\n",
       "    </tr>\n",
       "  </thead>\n",
       "  <tbody>\n",
       "    <tr>\n",
       "      <th rowspan=\"5\" valign=\"top\">April</th>\n",
       "      <th>login0</th>\n",
       "      <td>690.0</td>\n",
       "      <td>3369.253750</td>\n",
       "      <td>4.882976</td>\n",
       "    </tr>\n",
       "    <tr>\n",
       "      <th>login10</th>\n",
       "      <td>66.0</td>\n",
       "      <td>93.985556</td>\n",
       "      <td>1.424024</td>\n",
       "    </tr>\n",
       "    <tr>\n",
       "      <th>login100</th>\n",
       "      <td>2.0</td>\n",
       "      <td>3.112500</td>\n",
       "      <td>1.556250</td>\n",
       "    </tr>\n",
       "    <tr>\n",
       "      <th>login101</th>\n",
       "      <td>2465.0</td>\n",
       "      <td>1828.275974</td>\n",
       "      <td>0.741694</td>\n",
       "    </tr>\n",
       "    <tr>\n",
       "      <th>login102</th>\n",
       "      <td>63.0</td>\n",
       "      <td>54.775613</td>\n",
       "      <td>0.869454</td>\n",
       "    </tr>\n",
       "    <tr>\n",
       "      <th>...</th>\n",
       "      <th>...</th>\n",
       "      <td>...</td>\n",
       "      <td>...</td>\n",
       "      <td>...</td>\n",
       "    </tr>\n",
       "    <tr>\n",
       "      <th rowspan=\"5\" valign=\"top\">May</th>\n",
       "      <th>login95</th>\n",
       "      <td>3820.0</td>\n",
       "      <td>1195.057328</td>\n",
       "      <td>0.312842</td>\n",
       "    </tr>\n",
       "    <tr>\n",
       "      <th>login96</th>\n",
       "      <td>107.0</td>\n",
       "      <td>49.270556</td>\n",
       "      <td>0.460472</td>\n",
       "    </tr>\n",
       "    <tr>\n",
       "      <th>login97</th>\n",
       "      <td>2019.0</td>\n",
       "      <td>12497.368378</td>\n",
       "      <td>6.189880</td>\n",
       "    </tr>\n",
       "    <tr>\n",
       "      <th>login98</th>\n",
       "      <td>4914.0</td>\n",
       "      <td>16110.634962</td>\n",
       "      <td>3.278517</td>\n",
       "    </tr>\n",
       "    <tr>\n",
       "      <th>login99</th>\n",
       "      <td>482.0</td>\n",
       "      <td>526.494678</td>\n",
       "      <td>1.092313</td>\n",
       "    </tr>\n",
       "  </tbody>\n",
       "</table>\n",
       "<p>1699 rows × 3 columns</p>\n",
       "</div>"
      ],
      "text/plain": [
       "                      Microtasks    price_rate  price_per_microtasks\n",
       "assigned_ts login                                                   \n",
       "April       login0         690.0   3369.253750              4.882976\n",
       "            login10         66.0     93.985556              1.424024\n",
       "            login100         2.0      3.112500              1.556250\n",
       "            login101      2465.0   1828.275974              0.741694\n",
       "            login102        63.0     54.775613              0.869454\n",
       "...                          ...           ...                   ...\n",
       "May         login95       3820.0   1195.057328              0.312842\n",
       "            login96        107.0     49.270556              0.460472\n",
       "            login97       2019.0  12497.368378              6.189880\n",
       "            login98       4914.0  16110.634962              3.278517\n",
       "            login99        482.0    526.494678              1.092313\n",
       "\n",
       "[1699 rows x 3 columns]"
      ]
     },
     "execution_count": 16,
     "metadata": {},
     "output_type": "execute_result"
    }
   ],
   "source": [
    "df_res"
   ]
  },
  {
   "cell_type": "code",
   "execution_count": 17,
   "metadata": {},
   "outputs": [
    {
     "data": {
      "text/html": [
       "<div>\n",
       "<style scoped>\n",
       "    .dataframe tbody tr th:only-of-type {\n",
       "        vertical-align: middle;\n",
       "    }\n",
       "\n",
       "    .dataframe tbody tr th {\n",
       "        vertical-align: top;\n",
       "    }\n",
       "\n",
       "    .dataframe thead th {\n",
       "        text-align: right;\n",
       "    }\n",
       "</style>\n",
       "<table border=\"1\" class=\"dataframe\">\n",
       "  <thead>\n",
       "    <tr style=\"text-align: right;\">\n",
       "      <th></th>\n",
       "      <th>Microtasks</th>\n",
       "      <th>price_rate</th>\n",
       "      <th>price_per_microtasks</th>\n",
       "    </tr>\n",
       "  </thead>\n",
       "  <tbody>\n",
       "    <tr>\n",
       "      <th>count</th>\n",
       "      <td>1699.000000</td>\n",
       "      <td>1699.000000</td>\n",
       "      <td>1699.000000</td>\n",
       "    </tr>\n",
       "    <tr>\n",
       "      <th>mean</th>\n",
       "      <td>1344.330783</td>\n",
       "      <td>2209.942798</td>\n",
       "      <td>3.882258</td>\n",
       "    </tr>\n",
       "    <tr>\n",
       "      <th>std</th>\n",
       "      <td>2749.333741</td>\n",
       "      <td>6263.516225</td>\n",
       "      <td>11.735627</td>\n",
       "    </tr>\n",
       "    <tr>\n",
       "      <th>min</th>\n",
       "      <td>1.000000</td>\n",
       "      <td>0.506667</td>\n",
       "      <td>0.050667</td>\n",
       "    </tr>\n",
       "    <tr>\n",
       "      <th>25%</th>\n",
       "      <td>91.500000</td>\n",
       "      <td>146.842212</td>\n",
       "      <td>0.765078</td>\n",
       "    </tr>\n",
       "    <tr>\n",
       "      <th>50%</th>\n",
       "      <td>400.000000</td>\n",
       "      <td>674.239732</td>\n",
       "      <td>1.383081</td>\n",
       "    </tr>\n",
       "    <tr>\n",
       "      <th>75%</th>\n",
       "      <td>1435.500000</td>\n",
       "      <td>2158.966748</td>\n",
       "      <td>2.891688</td>\n",
       "    </tr>\n",
       "    <tr>\n",
       "      <th>max</th>\n",
       "      <td>35368.000000</td>\n",
       "      <td>191410.870107</td>\n",
       "      <td>235.525000</td>\n",
       "    </tr>\n",
       "  </tbody>\n",
       "</table>\n",
       "</div>"
      ],
      "text/plain": [
       "         Microtasks     price_rate  price_per_microtasks\n",
       "count   1699.000000    1699.000000           1699.000000\n",
       "mean    1344.330783    2209.942798              3.882258\n",
       "std     2749.333741    6263.516225             11.735627\n",
       "min        1.000000       0.506667              0.050667\n",
       "25%       91.500000     146.842212              0.765078\n",
       "50%      400.000000     674.239732              1.383081\n",
       "75%     1435.500000    2158.966748              2.891688\n",
       "max    35368.000000  191410.870107            235.525000"
      ]
     },
     "execution_count": 17,
     "metadata": {},
     "output_type": "execute_result"
    }
   ],
   "source": [
    "df_res.describe()"
   ]
  },
  {
   "cell_type": "code",
   "execution_count": 18,
   "metadata": {},
   "outputs": [
    {
     "name": "stderr",
     "output_type": "stream",
     "text": [
      "C:\\Users\\prostov\\env\\lib\\site-packages\\ipykernel_launcher.py:1: FutureWarning: Treating datetime data as categorical rather than numeric in `.describe` is deprecated and will be removed in a future version of pandas. Specify `datetime_is_numeric=True` to silence this warning and adopt the future behavior now.\n",
      "  \"\"\"Entry point for launching an IPython kernel.\n",
      "C:\\Users\\prostov\\env\\lib\\site-packages\\ipykernel_launcher.py:1: FutureWarning: Treating datetime data as categorical rather than numeric in `.describe` is deprecated and will be removed in a future version of pandas. Specify `datetime_is_numeric=True` to silence this warning and adopt the future behavior now.\n",
      "  \"\"\"Entry point for launching an IPython kernel.\n"
     ]
    },
    {
     "data": {
      "text/html": [
       "<div>\n",
       "<style scoped>\n",
       "    .dataframe tbody tr th:only-of-type {\n",
       "        vertical-align: middle;\n",
       "    }\n",
       "\n",
       "    .dataframe tbody tr th {\n",
       "        vertical-align: top;\n",
       "    }\n",
       "\n",
       "    .dataframe thead th {\n",
       "        text-align: right;\n",
       "    }\n",
       "</style>\n",
       "<table border=\"1\" class=\"dataframe\">\n",
       "  <thead>\n",
       "    <tr style=\"text-align: right;\">\n",
       "      <th></th>\n",
       "      <th>assigned_ts</th>\n",
       "      <th>closed_ts</th>\n",
       "    </tr>\n",
       "  </thead>\n",
       "  <tbody>\n",
       "    <tr>\n",
       "      <th>count</th>\n",
       "      <td>701826</td>\n",
       "      <td>701826</td>\n",
       "    </tr>\n",
       "    <tr>\n",
       "      <th>unique</th>\n",
       "      <td>572819</td>\n",
       "      <td>542996</td>\n",
       "    </tr>\n",
       "    <tr>\n",
       "      <th>top</th>\n",
       "      <td>2017-05-17 06:40:36</td>\n",
       "      <td>2017-04-25 16:39:07</td>\n",
       "    </tr>\n",
       "    <tr>\n",
       "      <th>freq</th>\n",
       "      <td>17</td>\n",
       "      <td>33</td>\n",
       "    </tr>\n",
       "    <tr>\n",
       "      <th>first</th>\n",
       "      <td>2017-04-20 00:00:00</td>\n",
       "      <td>2017-04-20 00:00:52</td>\n",
       "    </tr>\n",
       "    <tr>\n",
       "      <th>last</th>\n",
       "      <td>2017-06-01 23:58:27</td>\n",
       "      <td>2017-06-01 23:59:58</td>\n",
       "    </tr>\n",
       "  </tbody>\n",
       "</table>\n",
       "</div>"
      ],
      "text/plain": [
       "                assigned_ts            closed_ts\n",
       "count                701826               701826\n",
       "unique               572819               542996\n",
       "top     2017-05-17 06:40:36  2017-04-25 16:39:07\n",
       "freq                     17                   33\n",
       "first   2017-04-20 00:00:00  2017-04-20 00:00:52\n",
       "last    2017-06-01 23:58:27  2017-06-01 23:59:58"
      ]
     },
     "execution_count": 18,
     "metadata": {},
     "output_type": "execute_result"
    }
   ],
   "source": [
    "df.describe(include='datetime')"
   ]
  },
  {
   "cell_type": "code",
   "execution_count": 19,
   "metadata": {},
   "outputs": [
    {
     "data": {
      "text/plain": [
       "May      496189\n",
       "April    187610\n",
       "June      18027\n",
       "Name: assigned_ts, dtype: int64"
      ]
     },
     "execution_count": 19,
     "metadata": {},
     "output_type": "execute_result"
    }
   ],
   "source": [
    "df.assigned_ts.dt.month_name().value_counts()"
   ]
  },
  {
   "cell_type": "code",
   "execution_count": 20,
   "metadata": {},
   "outputs": [
    {
     "data": {
      "text/html": [
       "<div>\n",
       "<style scoped>\n",
       "    .dataframe tbody tr th:only-of-type {\n",
       "        vertical-align: middle;\n",
       "    }\n",
       "\n",
       "    .dataframe tbody tr th {\n",
       "        vertical-align: top;\n",
       "    }\n",
       "\n",
       "    .dataframe thead th {\n",
       "        text-align: right;\n",
       "    }\n",
       "</style>\n",
       "<table border=\"1\" class=\"dataframe\">\n",
       "  <thead>\n",
       "    <tr style=\"text-align: right;\">\n",
       "      <th></th>\n",
       "      <th>Microtasks</th>\n",
       "      <th>price_rate</th>\n",
       "      <th>price_per_microtasks</th>\n",
       "    </tr>\n",
       "    <tr>\n",
       "      <th>assigned_ts</th>\n",
       "      <th></th>\n",
       "      <th></th>\n",
       "      <th></th>\n",
       "    </tr>\n",
       "  </thead>\n",
       "  <tbody>\n",
       "    <tr>\n",
       "      <th>April</th>\n",
       "      <td>494406.0</td>\n",
       "      <td>7.579559e+05</td>\n",
       "      <td>1.533064</td>\n",
       "    </tr>\n",
       "    <tr>\n",
       "      <th>June</th>\n",
       "      <td>50398.0</td>\n",
       "      <td>6.225336e+04</td>\n",
       "      <td>1.235235</td>\n",
       "    </tr>\n",
       "    <tr>\n",
       "      <th>May</th>\n",
       "      <td>1739214.0</td>\n",
       "      <td>2.934484e+06</td>\n",
       "      <td>1.687247</td>\n",
       "    </tr>\n",
       "  </tbody>\n",
       "</table>\n",
       "</div>"
      ],
      "text/plain": [
       "             Microtasks    price_rate  price_per_microtasks\n",
       "assigned_ts                                                \n",
       "April          494406.0  7.579559e+05              1.533064\n",
       "June            50398.0  6.225336e+04              1.235235\n",
       "May           1739214.0  2.934484e+06              1.687247"
      ]
     },
     "execution_count": 20,
     "metadata": {},
     "output_type": "execute_result"
    }
   ],
   "source": [
    "df.groupby(by=[df.assigned_ts.dt.month_name(), ]).agg({'Microtasks':'sum', 'price_rate': 'sum'}).assign(price_per_microtasks=lambda x: (x.price_rate / x.Microtasks))"
   ]
  },
  {
   "cell_type": "code",
   "execution_count": 21,
   "metadata": {},
   "outputs": [],
   "source": [
    "df_tmp = df.groupby(by=[df.assigned_ts.dt.month_name(), 'login']).agg({'microtask_slots':'median',})\n"
   ]
  },
  {
   "cell_type": "code",
   "execution_count": 23,
   "metadata": {},
   "outputs": [
    {
     "data": {
      "text/plain": [
       "<AxesSubplot:>"
      ]
     },
     "execution_count": 23,
     "metadata": {},
     "output_type": "execute_result"
    },
    {
     "data": {
      "image/png": "[encoded data removed]",
      "text/plain": [
       "<Figure size 432x288 with 1 Axes>"
      ]
     },
     "metadata": {
      "needs_background": "light"
     },
     "output_type": "display_data"
    }
   ],
   "source": [
    "sns.distplot(df_tmp.values)"
   ]
  },
  {
   "cell_type": "code",
   "execution_count": 24,
   "metadata": {},
   "outputs": [
    {
     "data": {
      "text/html": [
       "<div>\n",
       "<style scoped>\n",
       "    .dataframe tbody tr th:only-of-type {\n",
       "        vertical-align: middle;\n",
       "    }\n",
       "\n",
       "    .dataframe tbody tr th {\n",
       "        vertical-align: top;\n",
       "    }\n",
       "\n",
       "    .dataframe thead th {\n",
       "        text-align: right;\n",
       "    }\n",
       "</style>\n",
       "<table border=\"1\" class=\"dataframe\">\n",
       "  <thead>\n",
       "    <tr style=\"text-align: right;\">\n",
       "      <th></th>\n",
       "      <th>microtask_slots</th>\n",
       "    </tr>\n",
       "  </thead>\n",
       "  <tbody>\n",
       "    <tr>\n",
       "      <th>count</th>\n",
       "      <td>1699.000000</td>\n",
       "    </tr>\n",
       "    <tr>\n",
       "      <th>mean</th>\n",
       "      <td>14.338100</td>\n",
       "    </tr>\n",
       "    <tr>\n",
       "      <th>std</th>\n",
       "      <td>57.183546</td>\n",
       "    </tr>\n",
       "    <tr>\n",
       "      <th>min</th>\n",
       "      <td>0.488889</td>\n",
       "    </tr>\n",
       "    <tr>\n",
       "      <th>25%</th>\n",
       "      <td>2.300000</td>\n",
       "    </tr>\n",
       "    <tr>\n",
       "      <th>50%</th>\n",
       "      <td>3.900000</td>\n",
       "    </tr>\n",
       "    <tr>\n",
       "      <th>75%</th>\n",
       "      <td>7.925000</td>\n",
       "    </tr>\n",
       "    <tr>\n",
       "      <th>max</th>\n",
       "      <td>1308.516667</td>\n",
       "    </tr>\n",
       "  </tbody>\n",
       "</table>\n",
       "</div>"
      ],
      "text/plain": [
       "       microtask_slots\n",
       "count      1699.000000\n",
       "mean         14.338100\n",
       "std          57.183546\n",
       "min           0.488889\n",
       "25%           2.300000\n",
       "50%           3.900000\n",
       "75%           7.925000\n",
       "max        1308.516667"
      ]
     },
     "execution_count": 24,
     "metadata": {},
     "output_type": "execute_result"
    }
   ],
   "source": [
    "df_tmp.describe()"
   ]
  },
  {
   "cell_type": "code",
   "execution_count": 25,
   "metadata": {},
   "outputs": [
    {
     "data": {
      "text/html": [
       "<div>\n",
       "<style scoped>\n",
       "    .dataframe tbody tr th:only-of-type {\n",
       "        vertical-align: middle;\n",
       "    }\n",
       "\n",
       "    .dataframe tbody tr th {\n",
       "        vertical-align: top;\n",
       "    }\n",
       "\n",
       "    .dataframe thead th {\n",
       "        text-align: right;\n",
       "    }\n",
       "</style>\n",
       "<table border=\"1\" class=\"dataframe\">\n",
       "  <thead>\n",
       "    <tr style=\"text-align: right;\">\n",
       "      <th></th>\n",
       "      <th>login</th>\n",
       "      <th>tid</th>\n",
       "      <th>Microtasks</th>\n",
       "      <th>assigned_ts</th>\n",
       "      <th>closed_ts</th>\n",
       "      <th>tm_delta_seconds</th>\n",
       "      <th>microtasks_per_seconds</th>\n",
       "      <th>productivity_rate</th>\n",
       "      <th>task_slots</th>\n",
       "      <th>microtask_slots</th>\n",
       "      <th>price_rate</th>\n",
       "    </tr>\n",
       "  </thead>\n",
       "  <tbody>\n",
       "    <tr>\n",
       "      <th>191</th>\n",
       "      <td>login0</td>\n",
       "      <td>189530764.0</td>\n",
       "      <td>8.0</td>\n",
       "      <td>2017-04-23 17:30:51</td>\n",
       "      <td>2017-04-24 09:43:59</td>\n",
       "      <td>58388.0</td>\n",
       "      <td>7298.500000</td>\n",
       "      <td>0.25</td>\n",
       "      <td>1946.266667</td>\n",
       "      <td>243.283333</td>\n",
       "      <td>60.820833</td>\n",
       "    </tr>\n",
       "    <tr>\n",
       "      <th>241</th>\n",
       "      <td>login0</td>\n",
       "      <td>167496148.0</td>\n",
       "      <td>7.0</td>\n",
       "      <td>2017-04-26 09:09:46</td>\n",
       "      <td>2017-04-27 06:55:45</td>\n",
       "      <td>78359.0</td>\n",
       "      <td>11194.142857</td>\n",
       "      <td>0.25</td>\n",
       "      <td>2611.966667</td>\n",
       "      <td>373.138095</td>\n",
       "      <td>93.284524</td>\n",
       "    </tr>\n",
       "    <tr>\n",
       "      <th>579</th>\n",
       "      <td>login0</td>\n",
       "      <td>195662434.0</td>\n",
       "      <td>4.0</td>\n",
       "      <td>2017-05-16 13:34:58</td>\n",
       "      <td>2017-05-17 06:25:10</td>\n",
       "      <td>60612.0</td>\n",
       "      <td>15153.000000</td>\n",
       "      <td>0.25</td>\n",
       "      <td>2020.400000</td>\n",
       "      <td>505.100000</td>\n",
       "      <td>126.275000</td>\n",
       "    </tr>\n",
       "    <tr>\n",
       "      <th>726</th>\n",
       "      <td>login0</td>\n",
       "      <td>196330832.0</td>\n",
       "      <td>2.0</td>\n",
       "      <td>2017-05-18 13:38:27</td>\n",
       "      <td>2017-05-19 07:14:42</td>\n",
       "      <td>63375.0</td>\n",
       "      <td>31687.500000</td>\n",
       "      <td>0.25</td>\n",
       "      <td>2112.500000</td>\n",
       "      <td>1056.250000</td>\n",
       "      <td>264.062500</td>\n",
       "    </tr>\n",
       "    <tr>\n",
       "      <th>731</th>\n",
       "      <td>login0</td>\n",
       "      <td>168847636.0</td>\n",
       "      <td>2.0</td>\n",
       "      <td>2017-05-21 17:57:14</td>\n",
       "      <td>2017-05-22 06:46:56</td>\n",
       "      <td>46182.0</td>\n",
       "      <td>23091.000000</td>\n",
       "      <td>0.25</td>\n",
       "      <td>1539.400000</td>\n",
       "      <td>769.700000</td>\n",
       "      <td>192.425000</td>\n",
       "    </tr>\n",
       "    <tr>\n",
       "      <th>...</th>\n",
       "      <td>...</td>\n",
       "      <td>...</td>\n",
       "      <td>...</td>\n",
       "      <td>...</td>\n",
       "      <td>...</td>\n",
       "      <td>...</td>\n",
       "      <td>...</td>\n",
       "      <td>...</td>\n",
       "      <td>...</td>\n",
       "      <td>...</td>\n",
       "      <td>...</td>\n",
       "    </tr>\n",
       "    <tr>\n",
       "      <th>701529</th>\n",
       "      <td>login765</td>\n",
       "      <td>169272848.0</td>\n",
       "      <td>6.0</td>\n",
       "      <td>2017-05-25 19:24:41</td>\n",
       "      <td>2017-05-26 16:33:46</td>\n",
       "      <td>76145.0</td>\n",
       "      <td>12690.833333</td>\n",
       "      <td>0.25</td>\n",
       "      <td>2538.166667</td>\n",
       "      <td>423.027778</td>\n",
       "      <td>105.756944</td>\n",
       "    </tr>\n",
       "    <tr>\n",
       "      <th>701653</th>\n",
       "      <td>login765</td>\n",
       "      <td>170266988.0</td>\n",
       "      <td>2.0</td>\n",
       "      <td>2017-05-28 23:18:02</td>\n",
       "      <td>2017-05-29 15:34:23</td>\n",
       "      <td>58581.0</td>\n",
       "      <td>29290.500000</td>\n",
       "      <td>0.25</td>\n",
       "      <td>1952.700000</td>\n",
       "      <td>976.350000</td>\n",
       "      <td>244.087500</td>\n",
       "    </tr>\n",
       "    <tr>\n",
       "      <th>701672</th>\n",
       "      <td>login765</td>\n",
       "      <td>198053548.0</td>\n",
       "      <td>5.0</td>\n",
       "      <td>2017-05-29 22:45:31</td>\n",
       "      <td>2017-05-30 16:53:37</td>\n",
       "      <td>65286.0</td>\n",
       "      <td>13057.200000</td>\n",
       "      <td>0.25</td>\n",
       "      <td>2176.200000</td>\n",
       "      <td>435.240000</td>\n",
       "      <td>108.810000</td>\n",
       "    </tr>\n",
       "    <tr>\n",
       "      <th>701756</th>\n",
       "      <td>login766</td>\n",
       "      <td>189530828.0</td>\n",
       "      <td>16.0</td>\n",
       "      <td>2017-04-23 16:46:45</td>\n",
       "      <td>2017-04-24 05:09:52</td>\n",
       "      <td>44587.0</td>\n",
       "      <td>2786.687500</td>\n",
       "      <td>0.25</td>\n",
       "      <td>1486.233333</td>\n",
       "      <td>92.889583</td>\n",
       "      <td>23.222396</td>\n",
       "    </tr>\n",
       "    <tr>\n",
       "      <th>701771</th>\n",
       "      <td>login766</td>\n",
       "      <td>165778950.0</td>\n",
       "      <td>7.0</td>\n",
       "      <td>2017-04-27 09:37:42</td>\n",
       "      <td>2017-04-27 19:12:45</td>\n",
       "      <td>34503.0</td>\n",
       "      <td>4929.000000</td>\n",
       "      <td>0.25</td>\n",
       "      <td>1150.100000</td>\n",
       "      <td>164.300000</td>\n",
       "      <td>41.075000</td>\n",
       "    </tr>\n",
       "  </tbody>\n",
       "</table>\n",
       "<p>14495 rows × 11 columns</p>\n",
       "</div>"
      ],
      "text/plain": [
       "           login          tid  Microtasks         assigned_ts  \\\n",
       "191       login0  189530764.0         8.0 2017-04-23 17:30:51   \n",
       "241       login0  167496148.0         7.0 2017-04-26 09:09:46   \n",
       "579       login0  195662434.0         4.0 2017-05-16 13:34:58   \n",
       "726       login0  196330832.0         2.0 2017-05-18 13:38:27   \n",
       "731       login0  168847636.0         2.0 2017-05-21 17:57:14   \n",
       "...          ...          ...         ...                 ...   \n",
       "701529  login765  169272848.0         6.0 2017-05-25 19:24:41   \n",
       "701653  login765  170266988.0         2.0 2017-05-28 23:18:02   \n",
       "701672  login765  198053548.0         5.0 2017-05-29 22:45:31   \n",
       "701756  login766  189530828.0        16.0 2017-04-23 16:46:45   \n",
       "701771  login766  165778950.0         7.0 2017-04-27 09:37:42   \n",
       "\n",
       "                 closed_ts  tm_delta_seconds  microtasks_per_seconds  \\\n",
       "191    2017-04-24 09:43:59           58388.0             7298.500000   \n",
       "241    2017-04-27 06:55:45           78359.0            11194.142857   \n",
       "579    2017-05-17 06:25:10           60612.0            15153.000000   \n",
       "726    2017-05-19 07:14:42           63375.0            31687.500000   \n",
       "731    2017-05-22 06:46:56           46182.0            23091.000000   \n",
       "...                    ...               ...                     ...   \n",
       "701529 2017-05-26 16:33:46           76145.0            12690.833333   \n",
       "701653 2017-05-29 15:34:23           58581.0            29290.500000   \n",
       "701672 2017-05-30 16:53:37           65286.0            13057.200000   \n",
       "701756 2017-04-24 05:09:52           44587.0             2786.687500   \n",
       "701771 2017-04-27 19:12:45           34503.0             4929.000000   \n",
       "\n",
       "       productivity_rate   task_slots  microtask_slots  price_rate  \n",
       "191                 0.25  1946.266667       243.283333   60.820833  \n",
       "241                 0.25  2611.966667       373.138095   93.284524  \n",
       "579                 0.25  2020.400000       505.100000  126.275000  \n",
       "726                 0.25  2112.500000      1056.250000  264.062500  \n",
       "731                 0.25  1539.400000       769.700000  192.425000  \n",
       "...                  ...          ...              ...         ...  \n",
       "701529              0.25  2538.166667       423.027778  105.756944  \n",
       "701653              0.25  1952.700000       976.350000  244.087500  \n",
       "701672              0.25  2176.200000       435.240000  108.810000  \n",
       "701756              0.25  1486.233333        92.889583   23.222396  \n",
       "701771              0.25  1150.100000       164.300000   41.075000  \n",
       "\n",
       "[14495 rows x 11 columns]"
      ]
     },
     "execution_count": 25,
     "metadata": {},
     "output_type": "execute_result"
    }
   ],
   "source": [
    "df[df.tm_delta_seconds > (60 * 60 * 8)]"
   ]
  },
  {
   "cell_type": "code",
   "execution_count": 26,
   "metadata": {},
   "outputs": [
    {
     "data": {
      "image/png": "[encoded data removed]",
      "text/plain": [
       "<Figure size 432x288 with 1 Axes>"
      ]
     },
     "metadata": {
      "needs_background": "light"
     },
     "output_type": "display_data"
    }
   ],
   "source": [
    "sns.distplot(df[df.tm_delta_seconds < 0.2e4].tm_delta_seconds)\n",
    "plt.show()"
   ]
  },
  {
   "cell_type": "code",
   "execution_count": 27,
   "metadata": {},
   "outputs": [],
   "source": [
    "dlt = (df.tm_delta_seconds - df.tm_delta_seconds.mean()).abs()\n",
    "std = df.tm_delta_seconds.std()"
   ]
  },
  {
   "cell_type": "code",
   "execution_count": 28,
   "metadata": {},
   "outputs": [
    {
     "data": {
      "text/plain": [
       "(-35409.842447894625, 39269.169907977324)"
      ]
     },
     "execution_count": 28,
     "metadata": {},
     "output_type": "execute_result"
    }
   ],
   "source": [
    "df.tm_delta_seconds.mean() - 3*df.tm_delta_seconds.std(), df.tm_delta_seconds.mean() + 3*df.tm_delta_seconds.std()"
   ]
  },
  {
   "cell_type": "code",
   "execution_count": 29,
   "metadata": {},
   "outputs": [
    {
     "data": {
      "text/plain": [
       "count    7.018260e+05\n",
       "mean     1.929664e+03\n",
       "std      1.244650e+04\n",
       "min      3.000000e+00\n",
       "25%      6.700000e+01\n",
       "50%      1.570000e+02\n",
       "75%      4.350000e+02\n",
       "max      2.043178e+06\n",
       "Name: tm_delta_seconds, dtype: float64"
      ]
     },
     "execution_count": 29,
     "metadata": {},
     "output_type": "execute_result"
    }
   ],
   "source": [
    "df.tm_delta_seconds.describe()"
   ]
  },
  {
   "cell_type": "code",
   "execution_count": 30,
   "metadata": {},
   "outputs": [],
   "source": [
    "# disc_col = 'tm_delta_seconds'\n",
    "disc_col = 'microtasks_per_seconds'"
   ]
  },
  {
   "cell_type": "code",
   "execution_count": 31,
   "metadata": {},
   "outputs": [
    {
     "data": {
      "text/plain": [
       "<AxesSubplot:>"
      ]
     },
     "execution_count": 31,
     "metadata": {},
     "output_type": "execute_result"
    },
    {
     "data": {
      "image/png": "[encoded data removed]",
      "text/plain": [
       "<Figure size 432x288 with 1 Axes>"
      ]
     },
     "metadata": {
      "needs_background": "light"
     },
     "output_type": "display_data"
    }
   ],
   "source": [
    "df[disc_col].hist(bins=100)"
   ]
  },
  {
   "cell_type": "code",
   "execution_count": 32,
   "metadata": {},
   "outputs": [
    {
     "data": {
      "text/plain": [
       "<AxesSubplot:>"
      ]
     },
     "execution_count": 32,
     "metadata": {},
     "output_type": "execute_result"
    },
    {
     "data": {
      "image/png": "[encoded data removed]",
      "text/plain": [
       "<Figure size 360x720 with 1 Axes>"
      ]
     },
     "metadata": {
      "needs_background": "light"
     },
     "output_type": "display_data"
    }
   ],
   "source": [
    "df[df[disc_col] < 0.2e6].boxplot(column=[disc_col], figsize=(5, 10))"
   ]
  },
  {
   "cell_type": "code",
   "execution_count": null,
   "metadata": {},
   "outputs": [],
   "source": []
  },
  {
   "cell_type": "code",
   "execution_count": 33,
   "metadata": {},
   "outputs": [
    {
     "data": {
      "text/plain": [
       "Text(0.65, 5000, 'count    699649.000000\\nmean        390.526442\\nstd        1423.443580\\nmin           1.769231\\n25%          37.000000\\n50%          74.333333\\n75%         179.750000\\nmax       23017.500000')"
      ]
     },
     "execution_count": 33,
     "metadata": {},
     "output_type": "execute_result"
    },
    {
     "data": {
      "image/png": "[encoded data removed]",
      "text/plain": [
       "<Figure size 360x720 with 1 Axes>"
      ]
     },
     "metadata": {
      "needs_background": "light"
     },
     "output_type": "display_data"
    }
   ],
   "source": [
    "df_tmp = df[df[disc_col] < ((60*60*8) * 0.8)]\n",
    "df_tmp.boxplot(column=[disc_col], figsize=(5, 10), return_type='axes').text(s=df_tmp[disc_col].describe().to_string(), y=5000, x=.65)\n"
   ]
  },
  {
   "cell_type": "code",
   "execution_count": 34,
   "metadata": {},
   "outputs": [
    {
     "data": {
      "text/plain": [
       "<AxesSubplot:>"
      ]
     },
     "execution_count": 34,
     "metadata": {},
     "output_type": "execute_result"
    },
    {
     "data": {
      "image/png": "[encoded data removed]",
      "text/plain": [
       "<Figure size 432x288 with 1 Axes>"
      ]
     },
     "metadata": {
      "needs_background": "light"
     },
     "output_type": "display_data"
    }
   ],
   "source": [
    "df_tmp[df_tmp[disc_col] < 2500][disc_col].hist(bins=100)"
   ]
  },
  {
   "cell_type": "code",
   "execution_count": 35,
   "metadata": {},
   "outputs": [
    {
     "data": {
      "text/plain": [
       "(-1072.155, 1076.154]       93.664812\n",
       "(1076.154, 2150.308]         2.285182\n",
       "(2150.308, 3224.462]         0.984290\n",
       "(3224.462, 4298.616]         0.640757\n",
       "(4298.616, 5372.77]          0.487158\n",
       "                              ...    \n",
       "(932367.672, 933441.826]     0.000000\n",
       "(616566.396, 617640.55]      0.000000\n",
       "(615492.242, 616566.396]     0.000000\n",
       "(614418.088, 615492.242]     0.000000\n",
       "(536004.846, 537079.0]       0.000000\n",
       "Name: microtasks_per_seconds, Length: 1000, dtype: float64"
      ]
     },
     "execution_count": 35,
     "metadata": {},
     "output_type": "execute_result"
    }
   ],
   "source": [
    "df[disc_col].round().value_counts(normalize=1, bins=1000) * 100\n"
   ]
  },
  {
   "cell_type": "code",
   "execution_count": 36,
   "metadata": {},
   "outputs": [
    {
     "data": {
      "text/plain": [
       "<AxesSubplot:>"
      ]
     },
     "execution_count": 36,
     "metadata": {},
     "output_type": "execute_result"
    },
    {
     "data": {
      "image/png": "[encoded data removed]",
      "text/plain": [
       "<Figure size 432x288 with 1 Axes>"
      ]
     },
     "metadata": {
      "needs_background": "light"
     },
     "output_type": "display_data"
    }
   ],
   "source": [
    "tm_trimmed = 2150.308\n",
    "df[df[disc_col] < tm_trimmed][disc_col].hist(bins=100)"
   ]
  },
  {
   "cell_type": "code",
   "execution_count": 37,
   "metadata": {},
   "outputs": [
    {
     "data": {
      "text/plain": [
       "Text(0.55, 1075.154, 'count    673402.000000\\nmean        165.319887\\nstd         274.504061\\nmin           1.769231\\n25%          36.000000\\n50%          70.800000\\n75%         158.000000\\nmax        2150.111111')"
      ]
     },
     "execution_count": 37,
     "metadata": {},
     "output_type": "execute_result"
    },
    {
     "data": {
      "image/png": "[encoded data removed]",
      "text/plain": [
       "<Figure size 360x720 with 1 Axes>"
      ]
     },
     "metadata": {
      "needs_background": "light"
     },
     "output_type": "display_data"
    }
   ],
   "source": [
    "df_trimmed = df[df[disc_col] < tm_trimmed]\n",
    "ax = df_trimmed.boxplot(column=[disc_col], figsize=(5, 10), return_type='axes')\n",
    "ax.text(s=df_trimmed[disc_col].describe().to_string(), x=.55, y=tm_trimmed/2)"
   ]
  },
  {
   "cell_type": "code",
   "execution_count": 38,
   "metadata": {},
   "outputs": [
    {
     "data": {
      "text/plain": [
       "Text(0.55, 1075.154, 'count    698602.000000\\nmean        362.049276\\nstd        1217.537366\\nmin           1.769231\\n25%          37.000000\\n50%          74.000000\\n75%         178.888889\\nmax       16704.000000')"
      ]
     },
     "execution_count": 38,
     "metadata": {},
     "output_type": "execute_result"
    },
    {
     "data": {
      "image/png": "[encoded data removed]",
      "text/plain": [
       "<Figure size 360x720 with 1 Axes>"
      ]
     },
     "metadata": {
      "needs_background": "light"
     },
     "output_type": "display_data"
    }
   ],
   "source": [
    "sigma3 = (df[disc_col].mean() - 3*df[disc_col].std(), df[disc_col].mean() + 3*df[disc_col].std())\n",
    "indxr = df[disc_col].between(*sigma3)\n",
    "df_trimmed = df[indxr]\n",
    "# print(df_trimmed[disc_col].describe())\n",
    "ax = df_trimmed.boxplot(column=[disc_col], figsize=(5, 10), return_type='axes')\n",
    "ax.text(s=df_trimmed[disc_col].describe().to_string(), x=.55, y=tm_trimmed/2)"
   ]
  },
  {
   "cell_type": "code",
   "execution_count": 39,
   "metadata": {},
   "outputs": [
    {
     "data": {
      "text/plain": [
       "(-14.934, 168.792]        73.780779\n",
       "(168.792, 335.814]        11.285253\n",
       "(335.814, 502.836]         4.086590\n",
       "(502.836, 669.858]         2.207552\n",
       "(669.858, 836.881]         1.402086\n",
       "                            ...    \n",
       "(15701.866, 15868.888]     0.006155\n",
       "(15033.777, 15200.799]     0.005583\n",
       "(12361.42, 12528.442]      0.005153\n",
       "(16202.933, 16369.955]     0.004294\n",
       "(14866.755, 15033.777]     0.004008\n",
       "Name: microtasks_per_seconds, Length: 100, dtype: float64"
      ]
     },
     "execution_count": 39,
     "metadata": {},
     "output_type": "execute_result"
    }
   ],
   "source": [
    "df_trimmed[disc_col].value_counts(normalize=1, bins=100) * 100"
   ]
  },
  {
   "cell_type": "code",
   "execution_count": 40,
   "metadata": {},
   "outputs": [
    {
     "data": {
      "text/plain": [
       "<AxesSubplot:>"
      ]
     },
     "execution_count": 40,
     "metadata": {},
     "output_type": "execute_result"
    },
    {
     "data": {
      "image/png": "[encoded data removed]",
      "text/plain": [
       "<Figure size 432x288 with 1 Axes>"
      ]
     },
     "metadata": {
      "needs_background": "light"
     },
     "output_type": "display_data"
    }
   ],
   "source": [
    "df_trimmed[disc_col].hist(bins=100)"
   ]
  },
  {
   "cell_type": "code",
   "execution_count": 41,
   "metadata": {},
   "outputs": [
    {
     "data": {
      "text/plain": [
       "<AxesSubplot:>"
      ]
     },
     "execution_count": 41,
     "metadata": {},
     "output_type": "execute_result"
    },
    {
     "data": {
      "image/png": "[encoded data removed]",
      "text/plain": [
       "<Figure size 432x288 with 1 Axes>"
      ]
     },
     "metadata": {
      "needs_background": "light"
     },
     "output_type": "display_data"
    }
   ],
   "source": [
    "df_bins = df_trimmed[disc_col].value_counts(normalize=1, bins=100).reset_index()\n",
    "tm_trimmed = df_bins[df_bins[disc_col] > 0.0027].iloc[-1]['index'].right\n",
    "df_trimmed[df_trimmed[disc_col] < tm_trimmed][disc_col].hist(bins=100)"
   ]
  },
  {
   "cell_type": "code",
   "execution_count": 42,
   "metadata": {},
   "outputs": [
    {
     "ename": "NameError",
     "evalue": "name 'params' is not defined",
     "output_type": "error",
     "traceback": [
      "\u001b[1;31m---------------------------------------------------------------------------\u001b[0m",
      "\u001b[1;31mNameError\u001b[0m                                 Traceback (most recent call last)",
      "\u001b[1;32m<ipython-input-42-6dea657846d5>\u001b[0m in \u001b[0;36m<module>\u001b[1;34m\u001b[0m\n\u001b[0;32m      2\u001b[0m \u001b[0mdisc_col_describe\u001b[0m \u001b[1;33m=\u001b[0m \u001b[0mdf_trimmed\u001b[0m\u001b[1;33m[\u001b[0m\u001b[0mdf_trimmed\u001b[0m\u001b[1;33m[\u001b[0m\u001b[0mdisc_col\u001b[0m\u001b[1;33m]\u001b[0m \u001b[1;33m<\u001b[0m \u001b[0mtm_trimmed\u001b[0m\u001b[1;33m]\u001b[0m\u001b[1;33m[\u001b[0m\u001b[0mdisc_col\u001b[0m\u001b[1;33m]\u001b[0m\u001b[1;33m.\u001b[0m\u001b[0mdescribe\u001b[0m\u001b[1;33m(\u001b[0m\u001b[1;33m)\u001b[0m\u001b[1;33m\u001b[0m\u001b[1;33m\u001b[0m\u001b[0m\n\u001b[0;32m      3\u001b[0m \u001b[0max\u001b[0m\u001b[1;33m.\u001b[0m\u001b[0mtext\u001b[0m\u001b[1;33m(\u001b[0m\u001b[0ms\u001b[0m\u001b[1;33m=\u001b[0m\u001b[0mdisc_col_describe\u001b[0m\u001b[1;33m.\u001b[0m\u001b[0mto_string\u001b[0m\u001b[1;33m(\u001b[0m\u001b[1;33m)\u001b[0m\u001b[1;33m,\u001b[0m \u001b[0mx\u001b[0m\u001b[1;33m=\u001b[0m\u001b[1;36m.55\u001b[0m\u001b[1;33m,\u001b[0m \u001b[0my\u001b[0m\u001b[1;33m=\u001b[0m\u001b[0mdisc_col_describe\u001b[0m\u001b[1;33m[\u001b[0m\u001b[1;34m'max'\u001b[0m\u001b[1;33m]\u001b[0m \u001b[1;33m*\u001b[0m \u001b[1;33m(\u001b[0m\u001b[1;36m1\u001b[0m\u001b[1;33m/\u001b[0m\u001b[1;36m2\u001b[0m\u001b[1;33m)\u001b[0m\u001b[1;33m)\u001b[0m\u001b[1;33m\u001b[0m\u001b[1;33m\u001b[0m\u001b[0m\n\u001b[1;32m----> 4\u001b[1;33m \u001b[0max\u001b[0m\u001b[1;33m.\u001b[0m\u001b[0mtext\u001b[0m\u001b[1;33m(\u001b[0m\u001b[0ms\u001b[0m\u001b[1;33m=\u001b[0m\u001b[1;34m'\\n'\u001b[0m\u001b[1;33m.\u001b[0m\u001b[0mjoin\u001b[0m\u001b[1;33m(\u001b[0m\u001b[1;33m[\u001b[0m\u001b[1;34mf'{params[i]}: {f(x)}'\u001b[0m \u001b[1;32mfor\u001b[0m \u001b[0mi\u001b[0m\u001b[1;33m,\u001b[0m\u001b[0mx\u001b[0m \u001b[1;32min\u001b[0m \u001b[0menumerate\u001b[0m\u001b[1;33m(\u001b[0m\u001b[0mdisc_col_describe\u001b[0m\u001b[1;33m[\u001b[0m\u001b[0mparams\u001b[0m\u001b[1;33m]\u001b[0m\u001b[1;33m.\u001b[0m\u001b[0mvalues\u001b[0m\u001b[1;33m.\u001b[0m\u001b[0mround\u001b[0m\u001b[1;33m(\u001b[0m\u001b[1;33m)\u001b[0m\u001b[1;33m)\u001b[0m\u001b[1;33m]\u001b[0m\u001b[1;33m)\u001b[0m\u001b[1;33m,\u001b[0m \u001b[0mx\u001b[0m\u001b[1;33m=\u001b[0m\u001b[1;36m.55\u001b[0m\u001b[1;33m,\u001b[0m \u001b[0my\u001b[0m\u001b[1;33m=\u001b[0m\u001b[0mdisc_col_describe\u001b[0m\u001b[1;33m[\u001b[0m\u001b[1;34m'max'\u001b[0m\u001b[1;33m]\u001b[0m \u001b[1;33m*\u001b[0m \u001b[1;33m(\u001b[0m\u001b[1;36m6\u001b[0m\u001b[1;33m/\u001b[0m\u001b[1;36m7\u001b[0m\u001b[1;33m)\u001b[0m\u001b[1;33m)\u001b[0m\u001b[1;33m\u001b[0m\u001b[1;33m\u001b[0m\u001b[0m\n\u001b[0m",
      "\u001b[1;31mNameError\u001b[0m: name 'params' is not defined"
     ]
    },
    {
     "data": {
      "image/png": "[encoded data removed]",
      "text/plain": [
       "<Figure size 360x720 with 1 Axes>"
      ]
     },
     "metadata": {
      "needs_background": "light"
     },
     "output_type": "display_data"
    }
   ],
   "source": [
    "ax = df_trimmed[df_trimmed[disc_col] < tm_trimmed].boxplot(column=[disc_col], figsize=(5,10), return_type='axes')\n",
    "disc_col_describe = df_trimmed[df_trimmed[disc_col] < tm_trimmed][disc_col].describe()\n",
    "ax.text(s=disc_col_describe.to_string(), x=.55, y=disc_col_describe['max'] * (1/2))\n",
    "ax.text(s='\\n'.join([f'{params[i]}: {f(x)}' for i,x in enumerate(disc_col_describe[params].values.round())]), x=.55, y=disc_col_describe['max'] * (6/7))"
   ]
  },
  {
   "cell_type": "code",
   "execution_count": null,
   "metadata": {},
   "outputs": [],
   "source": [
    "def boxplot(df, col):\n",
    "    params = ['max', 'mean', '50%']\n",
    "    ax = df.boxplot(column=[col], figsize=(5,10), return_type='axes')\n",
    "    disc_col_describe = df[col].describe()    \n",
    "    full_describe = disc_col_describe.to_string()\n",
    "    convert_dt = '\\n'.join(\n",
    "        [f'{params[i]}: {str(timedelta(seconds=x))}' for i,x in enumerate(disc_col_describe[params].values.round())]\n",
    "    )\n",
    "    ax.text(s=full_describe, x=.55, y=disc_col_describe['max'] * (1/4))    \n",
    "    ax.text(s=convert_dt, x=.55, y=disc_col_describe['max'] * (6/7))"
   ]
  },
  {
   "cell_type": "code",
   "execution_count": null,
   "metadata": {},
   "outputs": [],
   "source": [
    "boxplot(df_trimmed[df_trimmed[disc_col] < tm_trimmed], disc_col)"
   ]
  },
  {
   "cell_type": "code",
   "execution_count": null,
   "metadata": {},
   "outputs": [],
   "source": [
    "16704 / (60*60)"
   ]
  },
  {
   "cell_type": "code",
   "execution_count": null,
   "metadata": {},
   "outputs": [],
   "source": [
    "df.assigned_ts.dt.month_name().value_counts().plot.bar()"
   ]
  },
  {
   "cell_type": "code",
   "execution_count": null,
   "metadata": {},
   "outputs": [],
   "source": [
    "# поиск столбцов, где большое кол-во повторов одного и того же значения.\n",
    "\n",
    "\n",
    "low_rate_lmt = 0.95\n",
    "low_rate_columns = []\n",
    "\n",
    "for col in df.columns:\n",
    "    cnts = df[col].value_counts(dropna=False, normalize=True)\n",
    "    col_rate = cnts.iloc[0]\n",
    "    \n",
    "    if col_rate > low_rate_lmt:\n",
    "        low_rate_columns.append(col)\n",
    "        print(f\"{col} - {col_rate * 100}\")\n",
    "        print(cnts)\n",
    "        print()"
   ]
  },
  {
   "cell_type": "code",
   "execution_count": null,
   "metadata": {},
   "outputs": [],
   "source": []
  }
 ],
 "metadata": {
  "kernelspec": {
   "display_name": "Python 3",
   "language": "python",
   "name": "python3"
  },
  "language_info": {
   "codemirror_mode": {
    "name": "ipython",
    "version": 3
   },
   "file_extension": ".py",
   "mimetype": "text/x-python",
   "name": "python",
   "nbconvert_exporter": "python",
   "pygments_lexer": "ipython3",
   "version": "3.7.7"
  }
 },
 "nbformat": 4,
 "nbformat_minor": 4
}
