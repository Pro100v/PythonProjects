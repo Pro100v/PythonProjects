{
  "nbformat": 4,
  "nbformat_minor": 0,
  "metadata": {
    "colab": {
      "name": "ya.ipynb",
      "provenance": [],
      "toc_visible": true,
      "authorship_tag": "ABX9TyPwHiHiMUvsk3GYHtqM/7Ki",
      "include_colab_link": true
    },
    "kernelspec": {
      "name": "python3",
      "display_name": "Python 3"
    }
  },
  "cells": [
    {
      "cell_type": "markdown",
      "metadata": {
        "id": "view-in-github",
        "colab_type": "text"
      },
      "source": [
        "<a href=\"https://colab.research.google.com/github/Pro100v/PythonProjects/blob/master/PythonProjects/DataAnalysis/TestTasks/Yandex/ya.ipynb\" target=\"_parent\"><img src=\"https://colab.research.google.com/assets/colab-badge.svg\" alt=\"Open In Colab\"/></a>"
      ]
    },
    {
      "cell_type": "markdown",
      "metadata": {
        "id": "rVFQvKBAGDRn"
      },
      "source": [
        "#Вопрос 1\n",
        "\n",
        "Имеется файл https://yadi.sk/i/IxBCaRP83Kz8dj с временной статистикой работы асессоров над однотипным заданием.\n",
        "\n",
        "Формат файла: login tid Microtasks assigned_ts tclosed_ts. Пояснение к формату: \n",
        "- **login** — логин асессора; \n",
        "- **tid** — id оцениваемого задания (task id); \n",
        "- **Microtasks** – количество микрозаданий в одном задании; \n",
        "- **assigned_ts** — время резервирования системой задания для асессора; \n",
        "- **closed_ts** — точное время завершения работы над заданием; разделитель — табуляция \\t.\n",
        "\n",
        "Задание может состоять из одного или несколько микрозаданий. Время резервирования задания (assigned_ts) указывает на тот момент, когда система назначила определенного асессора исполнителем этого задания. Этот момент может совпадать с временем начала работы асессора над заданием, а может и не совпадать (асессор может отойти выпить чаю, а потом приступить к заданию, асессор может выполнять предыдущее задание, в то время как за ним зарезервированы новые).\n",
        "\n",
        "Предположим, что асессор за 30 секунд своего рабочего времени получает N рублей.\n",
        "\n",
        "Какую оплату вы считаете справедливой для выполнения асессором одного микрозадания из этого файла? Опишите подробно все этапы вашего решения."
      ]
    },
    {
      "cell_type": "markdown",
      "metadata": {
        "id": "DNYuY2n0GAWR"
      },
      "source": [
        "### Проработка: \n",
        "\n",
        "#### Идея\n",
        "- рассчитать среднее значение времени на выполнение одной микрозадачи \n",
        "- исходя из полученного на предыдущем шаге среднего значения, рассчитать количество микрозадач, которые может выполнить асессор в режиме работы 5/8. В расчетах использовать допущение, что асессор на выполнение работы тратит 80% от всего рабочего времени. \n",
        "- в качестве допущения, взять среднюю заработную плату в размере **30 0000 рублей** и разделить ее на количество микрозадач, которые может выполняит асессор в месяц\n",
        "- получим стоимсть выполнения одной микрозадачи. **done**\n",
        "\n",
        "#### Работа с данными\n",
        "1. Определить и удалить ложные данные в датасете\n",
        "2. Посмотреть наличие выбросов и попытаться их устранить, для работы с более значимыми данными\n",
        "\n",
        "#### Рассчеты\n",
        "1. Высчитать время выполнения всего задания. **Цель:** возможность для среднего времени выполнения одной микрозадачи.**\n",
        "2. Посчитать среднее время на выполнение одной микрозадачи. **Цель:** для оперирования в последующих расчетах средним временем на выполнения микрозадачи и в последствии выйти на приемлемую оплату\n",
        "3. (~) Определить сколько временных слотов по 30 сек. требуется для выполнения одной микрозадачи. **Цель:** получение коэфициента стоимости работ асессора за выполнения средней велечины выполнения одной микрозадачи, исходя из тарифа в N рублей за 30 секунд.\n",
        "4. Рассчитать медианный показатель (медиана сгладит негативный эффект \"грязного\" времени выполнения микрозадачи) выполнения одной микрозадачи, сгруппированных по месяцам. Цель: получить \n"
      ]
    },
    {
      "cell_type": "code",
      "metadata": {
        "id": "8XAX49-KFxAI"
      },
      "source": [
        "import pandas as pd\n",
        "from datetime import datetime, timedelta\n",
        "import requests\n",
        "from urllib.parse import urlencode\n",
        "import seaborn as sns\n",
        "from matplotlib import pyplot as plt"
      ],
      "execution_count": 2,
      "outputs": []
    },
    {
      "cell_type": "code",
      "metadata": {
        "id": "EovW7-6dGhbq",
        "outputId": "74a9c044-c55c-47bb-9eae-50ac84da484c",
        "colab": {
          "base_uri": "https://localhost:8080/",
          "height": 93
        }
      },
      "source": [
        "base_url = 'https://cloud-api.yandex.net/v1/disk/public/resources/download?'\n",
        "public_key = 'https://yadi.sk/i/IxBCaRP83Kz8dj'  # Сюда вписываете вашу ссылку\n",
        "\n",
        "# Получаем загрузочную ссылку\n",
        "final_url = base_url + urlencode(dict(public_key=public_key))\n",
        "response = requests.get(final_url)\n",
        "download_url = response.json()['href']\n",
        "download_url"
      ],
      "execution_count": 3,
      "outputs": [
        {
          "output_type": "execute_result",
          "data": {
            "application/vnd.google.colaboratory.intrinsic+json": {
              "type": "string"
            },
            "text/plain": [
              "'https://downloader.disk.yandex.ru/disk/cf138504073b53efa02918b3a53345033da2c6a73d7f52abbe691c1b548947e0/5f7ba357/bu92kZqLm5Gkr9yvLBQQ4I6AHYj-Ltsyp_feXYifhcw0wSq6PtNoJYAMAIdyZalbSUFzq3USfP7D_1XF6bRulA%3D%3D?uid=0&filename=data_task4_old.txt&disposition=attachment&hash=TKpkeqTtSkR3GS3SLe56%2BbV1Ms0cpBwIePhPjMDAMi4%3D%3A&limit=0&content_type=text%2Fplain&owner_uid=45647354&fsize=45540847&hid=1a360c0e2a08dceec4f4a4c225706cd9&media_type=document&tknv=v2'"
            ]
          },
          "metadata": {
            "tags": []
          },
          "execution_count": 3
        }
      ]
    },
    {
      "cell_type": "code",
      "metadata": {
        "id": "mgY5z_E3GksT",
        "outputId": "1d5584e8-ac17-4caa-8f3b-6251ffb85cc6",
        "colab": {
          "base_uri": "https://localhost:8080/",
          "height": 204
        }
      },
      "source": [
        "file = download_url\n",
        "df = pd.read_csv(download_url, sep='\\t', nrows=None, parse_dates=['assigned_ts', 'closed_ts'], dayfirst=False)\n",
        "df.head()"
      ],
      "execution_count": 4,
      "outputs": [
        {
          "output_type": "execute_result",
          "data": {
            "text/html": [
              "<div>\n",
              "<style scoped>\n",
              "    .dataframe tbody tr th:only-of-type {\n",
              "        vertical-align: middle;\n",
              "    }\n",
              "\n",
              "    .dataframe tbody tr th {\n",
              "        vertical-align: top;\n",
              "    }\n",
              "\n",
              "    .dataframe thead th {\n",
              "        text-align: right;\n",
              "    }\n",
              "</style>\n",
              "<table border=\"1\" class=\"dataframe\">\n",
              "  <thead>\n",
              "    <tr style=\"text-align: right;\">\n",
              "      <th></th>\n",
              "      <th>login</th>\n",
              "      <th>tid</th>\n",
              "      <th>Microtasks</th>\n",
              "      <th>assigned_ts</th>\n",
              "      <th>closed_ts</th>\n",
              "    </tr>\n",
              "  </thead>\n",
              "  <tbody>\n",
              "    <tr>\n",
              "      <th>0</th>\n",
              "      <td>login0</td>\n",
              "      <td>190563850.0</td>\n",
              "      <td>4.0</td>\n",
              "      <td>2017-04-20 12:09:39</td>\n",
              "      <td>2017-04-20 13:13:01</td>\n",
              "    </tr>\n",
              "    <tr>\n",
              "      <th>1</th>\n",
              "      <td>login0</td>\n",
              "      <td>190561754.0</td>\n",
              "      <td>1.0</td>\n",
              "      <td>2017-04-20 12:10:30</td>\n",
              "      <td>2017-04-20 12:28:29</td>\n",
              "    </tr>\n",
              "    <tr>\n",
              "      <th>2</th>\n",
              "      <td>login0</td>\n",
              "      <td>190565906.0</td>\n",
              "      <td>4.0</td>\n",
              "      <td>2017-04-20 12:21:31</td>\n",
              "      <td>2017-04-20 13:30:10</td>\n",
              "    </tr>\n",
              "    <tr>\n",
              "      <th>3</th>\n",
              "      <td>login0</td>\n",
              "      <td>190560246.0</td>\n",
              "      <td>1.0</td>\n",
              "      <td>2017-04-20 12:28:30</td>\n",
              "      <td>2017-04-20 13:13:56</td>\n",
              "    </tr>\n",
              "    <tr>\n",
              "      <th>4</th>\n",
              "      <td>login0</td>\n",
              "      <td>190562168.0</td>\n",
              "      <td>2.0</td>\n",
              "      <td>2017-04-20 12:28:42</td>\n",
              "      <td>2017-04-20 13:14:50</td>\n",
              "    </tr>\n",
              "  </tbody>\n",
              "</table>\n",
              "</div>"
            ],
            "text/plain": [
              "    login          tid  Microtasks         assigned_ts           closed_ts\n",
              "0  login0  190563850.0         4.0 2017-04-20 12:09:39 2017-04-20 13:13:01\n",
              "1  login0  190561754.0         1.0 2017-04-20 12:10:30 2017-04-20 12:28:29\n",
              "2  login0  190565906.0         4.0 2017-04-20 12:21:31 2017-04-20 13:30:10\n",
              "3  login0  190560246.0         1.0 2017-04-20 12:28:30 2017-04-20 13:13:56\n",
              "4  login0  190562168.0         2.0 2017-04-20 12:28:42 2017-04-20 13:14:50"
            ]
          },
          "metadata": {
            "tags": []
          },
          "execution_count": 4
        }
      ]
    },
    {
      "cell_type": "code",
      "metadata": {
        "id": "ITH0ET8AGn1k",
        "outputId": "01103863-bfe9-44b6-e5a5-daeddc99823d",
        "colab": {
          "base_uri": "https://localhost:8080/",
          "height": 80
        }
      },
      "source": [
        "# определение ложных даннах\n",
        "\n",
        "# поиск записей дата назначения задачи больше чем ее дата завепшения\n",
        "indxr = df[df.assigned_ts\t>= df.closed_ts]\n",
        "indxr"
      ],
      "execution_count": 5,
      "outputs": [
        {
          "output_type": "execute_result",
          "data": {
            "text/html": [
              "<div>\n",
              "<style scoped>\n",
              "    .dataframe tbody tr th:only-of-type {\n",
              "        vertical-align: middle;\n",
              "    }\n",
              "\n",
              "    .dataframe tbody tr th {\n",
              "        vertical-align: top;\n",
              "    }\n",
              "\n",
              "    .dataframe thead th {\n",
              "        text-align: right;\n",
              "    }\n",
              "</style>\n",
              "<table border=\"1\" class=\"dataframe\">\n",
              "  <thead>\n",
              "    <tr style=\"text-align: right;\">\n",
              "      <th></th>\n",
              "      <th>login</th>\n",
              "      <th>tid</th>\n",
              "      <th>Microtasks</th>\n",
              "      <th>assigned_ts</th>\n",
              "      <th>closed_ts</th>\n",
              "    </tr>\n",
              "  </thead>\n",
              "  <tbody>\n",
              "    <tr>\n",
              "      <th>534453</th>\n",
              "      <td>login585</td>\n",
              "      <td>197340894.0</td>\n",
              "      <td>1.0</td>\n",
              "      <td>2017-05-24 16:13:06</td>\n",
              "      <td>2017-05-24 16:00:57</td>\n",
              "    </tr>\n",
              "  </tbody>\n",
              "</table>\n",
              "</div>"
            ],
            "text/plain": [
              "           login          tid  ...         assigned_ts           closed_ts\n",
              "534453  login585  197340894.0  ... 2017-05-24 16:13:06 2017-05-24 16:00:57\n",
              "\n",
              "[1 rows x 5 columns]"
            ]
          },
          "metadata": {
            "tags": []
          },
          "execution_count": 5
        }
      ]
    },
    {
      "cell_type": "code",
      "metadata": {
        "id": "r4mCkn_GGtp7"
      },
      "source": [
        "# удаление \"ложных\" данных\n",
        "df.drop(indxr.index, inplace=True)"
      ],
      "execution_count": 6,
      "outputs": []
    },
    {
      "cell_type": "code",
      "metadata": {
        "id": "vlBlaTnnGv-z"
      },
      "source": [
        "# Рассчитаем время на выполнение задачи в секундах\n",
        "df['tm_delta_seconds'] = (df.closed_ts - df.assigned_ts) / timedelta(seconds=1)"
      ],
      "execution_count": 7,
      "outputs": []
    },
    {
      "cell_type": "code",
      "metadata": {
        "id": "4AEWNBMWGyWS"
      },
      "source": [
        "# вычислим время выполнения одной микрозадачи в секундах\n",
        "df['avg_tm_microtask_complete'] = df.tm_delta_seconds / df.Microtasks"
      ],
      "execution_count": 8,
      "outputs": []
    },
    {
      "cell_type": "code",
      "metadata": {
        "id": "ZZ_0lxadc1n7",
        "outputId": "2be1e45e-caa6-469d-872d-7d77a9c4190d",
        "colab": {
          "base_uri": "https://localhost:8080/",
          "height": 297
        }
      },
      "source": [
        "# посмотрим распределение полученных величин на гистограмме\n",
        "df.avg_tm_microtask_complete.hist(bins=100)"
      ],
      "execution_count": 70,
      "outputs": [
        {
          "output_type": "execute_result",
          "data": {
            "text/plain": [
              "<matplotlib.axes._subplots.AxesSubplot at 0x7fd6516aada0>"
            ]
          },
          "metadata": {
            "tags": []
          },
          "execution_count": 70
        },
        {
          "output_type": "display_data",
          "data": {
            "image/png": "[encoded data removed]",
            "text/plain": [
              "<Figure size 432x288 with 1 Axes>"
            ]
          },
          "metadata": {
            "tags": [],
            "needs_background": "light"
          }
        }
      ]
    },
    {
      "cell_type": "code",
      "metadata": {
        "id": "s1HtQqvfe2fG",
        "outputId": "088fcb88-0ecc-40ba-c67e-25bb58b5d4f1",
        "colab": {
          "base_uri": "https://localhost:8080/",
          "height": 188
        }
      },
      "source": [
        "df.avg_tm_microtask_complete.describe()"
      ],
      "execution_count": 62,
      "outputs": [
        {
          "output_type": "execute_result",
          "data": {
            "text/plain": [
              "count    7.018260e+05\n",
              "mean     5.681534e+02\n",
              "std      5.378999e+03\n",
              "min      1.769231e+00\n",
              "25%      3.700000e+01\n",
              "50%      7.500000e+01\n",
              "75%      1.820000e+02\n",
              "max      1.074156e+06\n",
              "Name: avg_tm_microtask_complete, dtype: float64"
            ]
          },
          "metadata": {
            "tags": []
          },
          "execution_count": 62
        }
      ]
    },
    {
      "cell_type": "markdown",
      "metadata": {
        "id": "B5F4sJzHJvUl"
      },
      "source": [
        "максимальное значение в данных на выполнение одной микрозадачи составляет *1 074 156 секунд* или более *12 дней*, что явно является выбросом в данных - который может негатино отразиться на дальнейших рассчетах. Постараемся очистить данные по [правилу 3 сигм](https://ru.wikipedia.org/wiki/%D0%A1%D1%80%D0%B5%D0%B4%D0%BD%D0%B5%D0%BA%D0%B2%D0%B0%D0%B4%D1%80%D0%B0%D1%82%D0%B8%D1%87%D0%B5%D1%81%D0%BA%D0%BE%D0%B5_%D0%BE%D1%82%D0%BA%D0%BB%D0%BE%D0%BD%D0%B5%D0%BD%D0%B8%D0%B5#%D0%9F%D1%80%D0%B0%D0%B2%D0%B8%D0%BB%D0%BE_%D1%82%D1%80%D1%91%D1%85_%D1%81%D0%B8%D0%B3%D0%BC)\n",
        "\n"
      ]
    },
    {
      "cell_type": "code",
      "metadata": {
        "id": "E4wD4mZWfDrD",
        "outputId": "65d70fff-ee5b-4e9c-c1e3-a5c8476bcfa8",
        "colab": {
          "base_uri": "https://localhost:8080/",
          "height": 36
        }
      },
      "source": [
        "1.074156e+06 / 60 / 60 / 24"
      ],
      "execution_count": 67,
      "outputs": [
        {
          "output_type": "execute_result",
          "data": {
            "text/plain": [
              "12.432361111111112"
            ]
          },
          "metadata": {
            "tags": []
          },
          "execution_count": 67
        }
      ]
    },
    {
      "cell_type": "code",
      "metadata": {
        "id": "BCKZy_WbdFD6",
        "outputId": "9a61af18-5774-4c43-8e72-b8df063b0eea",
        "colab": {
          "base_uri": "https://localhost:8080/",
          "height": 188
        }
      },
      "source": [
        "# высчитаем отклонение от среднего\n",
        "dev = (df.avg_tm_microtask_complete - df.avg_tm_microtask_complete.mean()).abs()\n",
        "# высчитаем среднее отклонение \n",
        "std = df.avg_tm_microtask_complete.std()\n",
        "# применим правило 3 сиги и полученный результат запишем в новый нобор данных\n",
        "df_trimmed = df[~(dev > std*3)]\n",
        "df_trimmed.avg_tm_microtask_complete.describe()"
      ],
      "execution_count": 68,
      "outputs": [
        {
          "output_type": "execute_result",
          "data": {
            "text/plain": [
              "count    698602.000000\n",
              "mean        362.049276\n",
              "std        1217.537366\n",
              "min           1.769231\n",
              "25%          37.000000\n",
              "50%          74.000000\n",
              "75%         178.888889\n",
              "max       16704.000000\n",
              "Name: avg_tm_microtask_complete, dtype: float64"
            ]
          },
          "metadata": {
            "tags": []
          },
          "execution_count": 68
        }
      ]
    },
    {
      "cell_type": "code",
      "metadata": {
        "id": "Q1btKr07fWi_",
        "outputId": "82ec7614-43e9-4815-e8a8-13ad0f69ba92",
        "colab": {
          "base_uri": "https://localhost:8080/",
          "height": 36
        }
      },
      "source": [
        "16704 / 60 / 60 / 1"
      ],
      "execution_count": 66,
      "outputs": [
        {
          "output_type": "execute_result",
          "data": {
            "text/plain": [
              "4.64"
            ]
          },
          "metadata": {
            "tags": []
          },
          "execution_count": 66
        }
      ]
    },
    {
      "cell_type": "code",
      "metadata": {
        "id": "U7WfZQJTekOJ",
        "outputId": "01d0ae65-fe00-46a5-830d-63434d502b0d",
        "colab": {
          "base_uri": "https://localhost:8080/",
          "height": 284
        }
      },
      "source": [
        "df_trimmed.avg_tm_microtask_complete.hist(bins=100)"
      ],
      "execution_count": 69,
      "outputs": [
        {
          "output_type": "execute_result",
          "data": {
            "text/plain": [
              "<matplotlib.axes._subplots.AxesSubplot at 0x7fd6517a9518>"
            ]
          },
          "metadata": {
            "tags": []
          },
          "execution_count": 69
        },
        {
          "output_type": "display_data",
          "data": {
            "image/png": "[encoded data removed]",
            "text/plain": [
              "<Figure size 432x288 with 1 Axes>"
            ]
          },
          "metadata": {
            "tags": [],
            "needs_background": "light"
          }
        }
      ]
    },
    {
      "cell_type": "markdown",
      "metadata": {
        "id": "ccyby8czREeb"
      },
      "source": [
        "в очишенном наборе данных уже нет сильных выбросов, при том кол-во данных сократилось не значительно с 701'826 записей до 698'602. Максимальное время выполнения одно микрозадачи составляет 16704 секунд, или около 4,5 часа - что больше похоже на правду."
      ]
    },
    {
      "cell_type": "code",
      "metadata": {
        "id": "c1x-TlIyG1Hf",
        "outputId": "ecfffe21-95f6-4755-88e5-8b9ce41b6c40",
        "colab": {
          "base_uri": "https://localhost:8080/",
          "height": 419
        }
      },
      "source": [
        "# сгруппируем данные по месяцам и асессорам и расчитаем для полученных записей\n",
        "# медианное значение среднего времени выполнения микрозадачи в секундах\n",
        "# т.о. получим среднее время выполнения одной микрозадачи по ассесорам в рамках \n",
        "# месяца (медиана сгладит ситуацию с \"грязным временем\" выполнения микрозадачи)\n",
        "\n",
        "df_month_login = df_trimmed.groupby(by=[df_trimmed.assigned_ts.dt.month_name(), df_trimmed.login])\\\n",
        "    ['avg_tm_microtask_complete'].median()\\\n",
        "    .reset_index()\n",
        "df_month_login[5:-5]"
      ],
      "execution_count": 78,
      "outputs": [
        {
          "output_type": "execute_result",
          "data": {
            "text/html": [
              "<div>\n",
              "<style scoped>\n",
              "    .dataframe tbody tr th:only-of-type {\n",
              "        vertical-align: middle;\n",
              "    }\n",
              "\n",
              "    .dataframe tbody tr th {\n",
              "        vertical-align: top;\n",
              "    }\n",
              "\n",
              "    .dataframe thead th {\n",
              "        text-align: right;\n",
              "    }\n",
              "</style>\n",
              "<table border=\"1\" class=\"dataframe\">\n",
              "  <thead>\n",
              "    <tr style=\"text-align: right;\">\n",
              "      <th></th>\n",
              "      <th>assigned_ts</th>\n",
              "      <th>login</th>\n",
              "      <th>avg_tm_microtask_complete</th>\n",
              "    </tr>\n",
              "  </thead>\n",
              "  <tbody>\n",
              "    <tr>\n",
              "      <th>5</th>\n",
              "      <td>April</td>\n",
              "      <td>login103</td>\n",
              "      <td>136.000000</td>\n",
              "    </tr>\n",
              "    <tr>\n",
              "      <th>6</th>\n",
              "      <td>April</td>\n",
              "      <td>login105</td>\n",
              "      <td>44.472222</td>\n",
              "    </tr>\n",
              "    <tr>\n",
              "      <th>7</th>\n",
              "      <td>April</td>\n",
              "      <td>login106</td>\n",
              "      <td>54.000000</td>\n",
              "    </tr>\n",
              "    <tr>\n",
              "      <th>8</th>\n",
              "      <td>April</td>\n",
              "      <td>login108</td>\n",
              "      <td>99.100000</td>\n",
              "    </tr>\n",
              "    <tr>\n",
              "      <th>9</th>\n",
              "      <td>April</td>\n",
              "      <td>login109</td>\n",
              "      <td>983.000000</td>\n",
              "    </tr>\n",
              "    <tr>\n",
              "      <th>...</th>\n",
              "      <td>...</td>\n",
              "      <td>...</td>\n",
              "      <td>...</td>\n",
              "    </tr>\n",
              "    <tr>\n",
              "      <th>1687</th>\n",
              "      <td>May</td>\n",
              "      <td>login90</td>\n",
              "      <td>91.000000</td>\n",
              "    </tr>\n",
              "    <tr>\n",
              "      <th>1688</th>\n",
              "      <td>May</td>\n",
              "      <td>login91</td>\n",
              "      <td>44.000000</td>\n",
              "    </tr>\n",
              "    <tr>\n",
              "      <th>1689</th>\n",
              "      <td>May</td>\n",
              "      <td>login92</td>\n",
              "      <td>114.500000</td>\n",
              "    </tr>\n",
              "    <tr>\n",
              "      <th>1690</th>\n",
              "      <td>May</td>\n",
              "      <td>login93</td>\n",
              "      <td>114.000000</td>\n",
              "    </tr>\n",
              "    <tr>\n",
              "      <th>1691</th>\n",
              "      <td>May</td>\n",
              "      <td>login94</td>\n",
              "      <td>40.000000</td>\n",
              "    </tr>\n",
              "  </tbody>\n",
              "</table>\n",
              "<p>1687 rows × 3 columns</p>\n",
              "</div>"
            ],
            "text/plain": [
              "     assigned_ts     login  avg_tm_microtask_complete\n",
              "5          April  login103                 136.000000\n",
              "6          April  login105                  44.472222\n",
              "7          April  login106                  54.000000\n",
              "8          April  login108                  99.100000\n",
              "9          April  login109                 983.000000\n",
              "...          ...       ...                        ...\n",
              "1687         May   login90                  91.000000\n",
              "1688         May   login91                  44.000000\n",
              "1689         May   login92                 114.500000\n",
              "1690         May   login93                 114.000000\n",
              "1691         May   login94                  40.000000\n",
              "\n",
              "[1687 rows x 3 columns]"
            ]
          },
          "metadata": {
            "tags": []
          },
          "execution_count": 78
        }
      ]
    },
    {
      "cell_type": "code",
      "metadata": {
        "id": "ebRZ5JeJIjGJ",
        "outputId": "608cac30-659b-42a1-d530-222b143fd488",
        "colab": {
          "base_uri": "https://localhost:8080/",
          "height": 284
        }
      },
      "source": [
        "# посмотрим распределение полученных величин на гистограмме\n",
        "df_month_login.avg_tm_microtask_complete.hist(bins=100)"
      ],
      "execution_count": 79,
      "outputs": [
        {
          "output_type": "execute_result",
          "data": {
            "text/plain": [
              "<matplotlib.axes._subplots.AxesSubplot at 0x7fd651312550>"
            ]
          },
          "metadata": {
            "tags": []
          },
          "execution_count": 79
        },
        {
          "output_type": "display_data",
          "data": {
            "image/png": "[encoded data removed]",
            "text/plain": [
              "<Figure size 432x288 with 1 Axes>"
            ]
          },
          "metadata": {
            "tags": [],
            "needs_background": "light"
          }
        }
      ]
    },
    {
      "cell_type": "code",
      "metadata": {
        "id": "yixRnULVJOSV",
        "outputId": "91a2b32c-1754-4a82-9a56-07158cb23308",
        "colab": {
          "base_uri": "https://localhost:8080/",
          "height": 297
        }
      },
      "source": [
        "df_month_login.describe()"
      ],
      "execution_count": 80,
      "outputs": [
        {
          "output_type": "execute_result",
          "data": {
            "text/html": [
              "<div>\n",
              "<style scoped>\n",
              "    .dataframe tbody tr th:only-of-type {\n",
              "        vertical-align: middle;\n",
              "    }\n",
              "\n",
              "    .dataframe tbody tr th {\n",
              "        vertical-align: top;\n",
              "    }\n",
              "\n",
              "    .dataframe thead th {\n",
              "        text-align: right;\n",
              "    }\n",
              "</style>\n",
              "<table border=\"1\" class=\"dataframe\">\n",
              "  <thead>\n",
              "    <tr style=\"text-align: right;\">\n",
              "      <th></th>\n",
              "      <th>avg_tm_microtask_complete</th>\n",
              "    </tr>\n",
              "  </thead>\n",
              "  <tbody>\n",
              "    <tr>\n",
              "      <th>count</th>\n",
              "      <td>1697.000000</td>\n",
              "    </tr>\n",
              "    <tr>\n",
              "      <th>mean</th>\n",
              "      <td>345.234824</td>\n",
              "    </tr>\n",
              "    <tr>\n",
              "      <th>std</th>\n",
              "      <td>885.831228</td>\n",
              "    </tr>\n",
              "    <tr>\n",
              "      <th>min</th>\n",
              "      <td>14.666667</td>\n",
              "    </tr>\n",
              "    <tr>\n",
              "      <th>25%</th>\n",
              "      <td>68.500000</td>\n",
              "    </tr>\n",
              "    <tr>\n",
              "      <th>50%</th>\n",
              "      <td>115.000000</td>\n",
              "    </tr>\n",
              "    <tr>\n",
              "      <th>75%</th>\n",
              "      <td>229.500000</td>\n",
              "    </tr>\n",
              "    <tr>\n",
              "      <th>max</th>\n",
              "      <td>13447.000000</td>\n",
              "    </tr>\n",
              "  </tbody>\n",
              "</table>\n",
              "</div>"
            ],
            "text/plain": [
              "       avg_tm_microtask_complete\n",
              "count                1697.000000\n",
              "mean                  345.234824\n",
              "std                   885.831228\n",
              "min                    14.666667\n",
              "25%                    68.500000\n",
              "50%                   115.000000\n",
              "75%                   229.500000\n",
              "max                 13447.000000"
            ]
          },
          "metadata": {
            "tags": []
          },
          "execution_count": 80
        }
      ]
    },
    {
      "cell_type": "code",
      "metadata": {
        "id": "-tyeaZM-WMGL",
        "outputId": "f9cfe9a3-2052-4f3c-ce8c-d44912077dec",
        "colab": {
          "base_uri": "https://localhost:8080/",
          "height": 36
        }
      },
      "source": [
        "# запомним медианное значение времени выполнения одной микрозадачи в секундах\n",
        "median_tm_cmplt_microtask = round(df_month_login.avg_tm_microtask_complete.median())\n",
        "print(f\"Среднее время выполнения 1 микрозадачи: {median_tm_cmplt_microtask} сек.\")"
      ],
      "execution_count": 81,
      "outputs": [
        {
          "output_type": "stream",
          "text": [
            "Среднее время выполнения 1 микрозадачи: 115 сек.\n"
          ],
          "name": "stdout"
        }
      ]
    },
    {
      "cell_type": "code",
      "metadata": {
        "id": "CFwcG6BoJ-IG",
        "outputId": "46666630-a76b-4f4e-ab81-49a6998d44fe",
        "colab": {
          "base_uri": "https://localhost:8080/",
          "height": 36
        }
      },
      "source": [
        "wh_year_all = 1979  # количество рабочих часов в 2020 году по данным производственного каллендаря \n",
        "wh_year_eff = wh_year_all * .8 # 80% эффективного времени от общего значения\n",
        "wh_month_eff = wh_year_eff / 12 # кол-во эффективных часов в месяц\n",
        "microtasks_per_month = (wh_month_eff * 60 * 60) / median_tm_cmplt_microtask\n",
        "print(f\"Объем микрозадач в месяц на 1 асессора: {round(microtasks_per_month)} шт.\")\n"
      ],
      "execution_count": 82,
      "outputs": [
        {
          "output_type": "stream",
          "text": [
            "Объем микрозадач в месяц на 1 асессора: 4130 шт.\n"
          ],
          "name": "stdout"
        }
      ]
    },
    {
      "cell_type": "code",
      "metadata": {
        "id": "nsPPZw70bSEi",
        "outputId": "20a3ed77-5210-487e-9db5-50feadc9152f",
        "colab": {
          "base_uri": "https://localhost:8080/",
          "height": 36
        }
      },
      "source": [
        "# Средняя зарплата в России в 2020 году по данным Росстата\n",
        "# средняя зарплата в России по состоянию на январь 2020 года составила 46674 руб.\n",
        "avg_salary = 46674\n",
        "\n",
        "tax_per_microtask = round(avg_salary / microtasks_per_month)\n",
        "print(f\"Стоимость одной микрозадачи: {tax_per_microtask} рублей\")"
      ],
      "execution_count": 83,
      "outputs": [
        {
          "output_type": "stream",
          "text": [
            "Стоимость одной микрозадачи: 11 рублей\n"
          ],
          "name": "stdout"
        }
      ]
    },
    {
      "cell_type": "code",
      "metadata": {
        "id": "PiJCQip0cj0a"
      },
      "source": [
        "df_tmp = (df_trimmed.groupby(by=[df_trimmed.assigned_ts.dt.month_name(), df_trimmed.login])['Microtasks'].sum()*tax_per_microtask).reset_index()"
      ],
      "execution_count": 92,
      "outputs": []
    },
    {
      "cell_type": "code",
      "metadata": {
        "id": "AVkIvGhj2YrX",
        "outputId": "5422966a-955d-45b4-a546-b6ecc2085912",
        "colab": {
          "base_uri": "https://localhost:8080/",
          "height": 142
        }
      },
      "source": [
        "# df_tmp[df_tmp.Microtasks > 100000]\n",
        "# df[df.login.eq('login652')]\\\n",
        "#   .groupby(df.assigned_ts.dt.month_name())\\\n",
        "#   .agg({'tid':'count', 'Microtasks':'sum'})\\\n",
        "#   .assign(total_sallary= lambda x: x['Microtasks']*tax_per_microtask)"
      ],
      "execution_count": 105,
      "outputs": [
        {
          "output_type": "execute_result",
          "data": {
            "text/html": [
              "<div>\n",
              "<style scoped>\n",
              "    .dataframe tbody tr th:only-of-type {\n",
              "        vertical-align: middle;\n",
              "    }\n",
              "\n",
              "    .dataframe tbody tr th {\n",
              "        vertical-align: top;\n",
              "    }\n",
              "\n",
              "    .dataframe thead th {\n",
              "        text-align: right;\n",
              "    }\n",
              "</style>\n",
              "<table border=\"1\" class=\"dataframe\">\n",
              "  <thead>\n",
              "    <tr style=\"text-align: right;\">\n",
              "      <th></th>\n",
              "      <th>tid</th>\n",
              "      <th>Microtasks</th>\n",
              "      <th>total_sallary</th>\n",
              "    </tr>\n",
              "    <tr>\n",
              "      <th>assigned_ts</th>\n",
              "      <th></th>\n",
              "      <th></th>\n",
              "      <th></th>\n",
              "    </tr>\n",
              "  </thead>\n",
              "  <tbody>\n",
              "    <tr>\n",
              "      <th>April</th>\n",
              "      <td>1616</td>\n",
              "      <td>6684.0</td>\n",
              "      <td>73524.0</td>\n",
              "    </tr>\n",
              "    <tr>\n",
              "      <th>May</th>\n",
              "      <td>6528</td>\n",
              "      <td>35368.0</td>\n",
              "      <td>389048.0</td>\n",
              "    </tr>\n",
              "  </tbody>\n",
              "</table>\n",
              "</div>"
            ],
            "text/plain": [
              "              tid  Microtasks  total_sallary\n",
              "assigned_ts                                 \n",
              "April        1616      6684.0        73524.0\n",
              "May          6528     35368.0       389048.0"
            ]
          },
          "metadata": {
            "tags": []
          },
          "execution_count": 105
        }
      ]
    },
    {
      "cell_type": "code",
      "metadata": {
        "id": "wf5uc1dv6KIE",
        "outputId": "06a1d2b0-d12a-406a-c158-7f09cba5a56d",
        "colab": {
          "base_uri": "https://localhost:8080/",
          "height": 204
        }
      },
      "source": [
        "df_tmp.head()"
      ],
      "execution_count": 106,
      "outputs": [
        {
          "output_type": "execute_result",
          "data": {
            "text/html": [
              "<div>\n",
              "<style scoped>\n",
              "    .dataframe tbody tr th:only-of-type {\n",
              "        vertical-align: middle;\n",
              "    }\n",
              "\n",
              "    .dataframe tbody tr th {\n",
              "        vertical-align: top;\n",
              "    }\n",
              "\n",
              "    .dataframe thead th {\n",
              "        text-align: right;\n",
              "    }\n",
              "</style>\n",
              "<table border=\"1\" class=\"dataframe\">\n",
              "  <thead>\n",
              "    <tr style=\"text-align: right;\">\n",
              "      <th></th>\n",
              "      <th>assigned_ts</th>\n",
              "      <th>login</th>\n",
              "      <th>Microtasks</th>\n",
              "    </tr>\n",
              "  </thead>\n",
              "  <tbody>\n",
              "    <tr>\n",
              "      <th>0</th>\n",
              "      <td>April</td>\n",
              "      <td>login0</td>\n",
              "      <td>7590.0</td>\n",
              "    </tr>\n",
              "    <tr>\n",
              "      <th>1</th>\n",
              "      <td>April</td>\n",
              "      <td>login10</td>\n",
              "      <td>726.0</td>\n",
              "    </tr>\n",
              "    <tr>\n",
              "      <th>2</th>\n",
              "      <td>April</td>\n",
              "      <td>login100</td>\n",
              "      <td>22.0</td>\n",
              "    </tr>\n",
              "    <tr>\n",
              "      <th>3</th>\n",
              "      <td>April</td>\n",
              "      <td>login101</td>\n",
              "      <td>27115.0</td>\n",
              "    </tr>\n",
              "    <tr>\n",
              "      <th>4</th>\n",
              "      <td>April</td>\n",
              "      <td>login102</td>\n",
              "      <td>693.0</td>\n",
              "    </tr>\n",
              "  </tbody>\n",
              "</table>\n",
              "</div>"
            ],
            "text/plain": [
              "  assigned_ts     login  Microtasks\n",
              "0       April    login0      7590.0\n",
              "1       April   login10       726.0\n",
              "2       April  login100        22.0\n",
              "3       April  login101     27115.0\n",
              "4       April  login102       693.0"
            ]
          },
          "metadata": {
            "tags": []
          },
          "execution_count": 106
        }
      ]
    }
  ]
}